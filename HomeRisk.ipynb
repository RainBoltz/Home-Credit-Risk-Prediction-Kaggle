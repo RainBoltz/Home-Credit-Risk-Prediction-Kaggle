{
 "cells": [
  {
   "cell_type": "markdown",
   "metadata": {},
   "source": [
    "# Kaggle 競賽: Home Credit Default Risk\n",
    "\n",
    "競賽網址: https://www.kaggle.com/c/home-credit-default-risk\n",
    "\n",
    "Home Credit (捷信消費金融有限公司) 是中東歐/亞洲的一家消費金融提供商，為客戶提供金融服務。  \n",
    "他們希望能通過資料探勘和機器學習來判斷客戶的貸款違約機率。"
   ]
  },
  {
   "cell_type": "markdown",
   "metadata": {},
   "source": [
    "## 資料簡介  \n",
    "  \n",
    "Home Credit 提供的資料如下：\n",
    "\n",
    "1. **application_train/test - 客戶申請表**: 包含了客戶是否違約(1/0的目標變數)、客戶申請貸款資料(貸款類型、貸款總額、年金)、客戶基本資料(性別、 年齡、家庭、學歷、職業、行業、居住地情況)、客戶財務資訊(年收入、房/車狀況)、以及其他申請時提供的資料等等。\n",
    "  \n",
    "2. **bureau/bureau_balance - 由其他金融機構提供給徵信單位的客戶信用記錄歷史**: 包含了客戶在徵信單位的信用記錄、違約金額、違約時間等等。以時間序列的形式進行記錄(以月為單位)。\n",
    "  \n",
    "3. **POS_CASH_balance - 客戶在Home Credit資料庫中POS(point of sales)和現金貸款紀錄**: 包含了客戶已付款和未付款的狀況(以月為單位)。\n",
    "  \n",
    "4. **credit_card_balance - 客戶在Home Credit資料庫中信用卡的紀錄**: 包含了客戶消費次數、消費金額等等(以月為單位)。\n",
    "  \n",
    "5. **previous_application - 客戶先前的申請記錄**: 包含了客戶所有歷史申請記錄，如申請資料和申請結果等等。\n",
    "  \n",
    "6. **installments_payments - 客戶先前信用卡的還款記錄**: 包含了客戶的還款狀況(還款日期、是否逾期、還款金額、是否欠款等等)。"
   ]
  },
  {
   "cell_type": "markdown",
   "metadata": {},
   "source": [
    "## 競賽目標\n",
    "\n",
    "**競賽最終要求提交每個目標ID的違約機率，並以此計算得到的AUC作為評分標準。**\n"
   ]
  },
  {
   "cell_type": "markdown",
   "metadata": {
    "_cell_guid": "551ce207-0976-48c3-9242-fac3e6bdf527",
    "_uuid": "66406036d8dd7a0071295d1aee64f13bffc44e3a"
   },
   "source": [
    "### 評分標準: AUC 簡介\n",
    "\n",
    "ROC-AUC 是一種常見的分類指標，稱為 [Receiver Operating Characteristic Area Under the Curve (ROC AUC, also sometimes called AUROC)](https://stats.stackexchange.com/questions/132777/what-does-auc-stand-for-and-what-is-it).\n",
    "\n",
    "我們可藉由 [Reciever Operating Characteristic (ROC) curve](https://en.wikipedia.org/wiki/Receiver_operating_characteristic) 繪製出 True Positive Rate (TPR) 和 False Positive Rate (FPR) 的關係圖：\n",
    "\n",
    "![image](./ROC-curve.png)\n",
    "\n",
    "然後 [Area Under the Curve (AUC)](http://gim.unmc.edu/dxtests/roc3.htm) 是單純 ROC 底下的涵蓋面積。所以可以看出如上圖，藍色模型優於紅色模型，紅色模型又優於完全隨機亂猜的模型(黑色斜直線)。"
   ]
  },
  {
   "cell_type": "markdown",
   "metadata": {},
   "source": [
    "## 前置作業"
   ]
  },
  {
   "cell_type": "markdown",
   "metadata": {
    "_cell_guid": "d632b08c-d252-4238-b496-e2c6edebec4b",
    "_uuid": "eb13bf76d4e1e60d0703856ec391cdc2c5bdf1fb"
   },
   "source": [
    "### Imports\n",
    "\n",
    "基本的python套件: `numpy`, `pandas`, `sklearn`, `matplotlib`"
   ]
  },
  {
   "cell_type": "code",
   "execution_count": 1,
   "metadata": {
    "_cell_guid": "b1076dfc-b9ad-4769-8c92-a6c4dae69d19",
    "_uuid": "8f2839f25d086af736a60e9eeb907d3b93b6e0e5"
   },
   "outputs": [],
   "source": [
    "import os\n",
    "import numpy as np\n",
    "import pandas as pd \n",
    "import matplotlib.pyplot as plt\n",
    "import seaborn as sns\n",
    "from sklearn.preprocessing import LabelEncoder\n",
    "\n",
    "import warnings\n",
    "warnings.filterwarnings('ignore')"
   ]
  },
  {
   "cell_type": "markdown",
   "metadata": {
    "_cell_guid": "a5e67831-4751-4f11-8e07-527e3e092671",
    "_uuid": "ded520f73b9e94ed47ac2e994a5fb1bcb9093d0f"
   },
   "source": [
    "### 讀取資料\n",
    "\n",
    "總共有九個檔案：兩個主要的csv檔可以用來訓練模型(有標籤的是train，沒標籤的是test)，來有其他六個包含額外資訊的csv檔。"
   ]
  },
  {
   "cell_type": "code",
   "execution_count": 2,
   "metadata": {
    "_cell_guid": "2cdca894-e637-43a9-8f80-5791c2bb9041",
    "_uuid": "c54e1559611512ebd447ac24f2226c2fffd61dcd"
   },
   "outputs": [
    {
     "name": "stdout",
     "output_type": "stream",
     "text": [
      "['application_test.csv', 'application_train.csv', 'bureau.csv', 'bureau_balance.csv', 'credit_card_balance.csv', 'HomeCredit_columns_description.csv', 'installments_payments.csv', 'POS_CASH_balance.csv', 'previous_application.csv', 'sample_submission.csv']\n"
     ]
    }
   ],
   "source": [
    "print(os.listdir(\"./input/\"))"
   ]
  },
  {
   "cell_type": "code",
   "execution_count": 7,
   "metadata": {
    "_cell_guid": "79c7e3d0-c299-4dcb-8224-4455121ee9b0",
    "_uuid": "d629ff2d2480ee46fbb7e2d37f6b5fab8052498a"
   },
   "outputs": [
    {
     "name": "stdout",
     "output_type": "stream",
     "text": [
      "Training data shape:  (307511, 122)\n"
     ]
    },
    {
     "data": {
      "text/html": [
       "<div>\n",
       "<style scoped>\n",
       "    .dataframe tbody tr th:only-of-type {\n",
       "        vertical-align: middle;\n",
       "    }\n",
       "\n",
       "    .dataframe tbody tr th {\n",
       "        vertical-align: top;\n",
       "    }\n",
       "\n",
       "    .dataframe thead th {\n",
       "        text-align: right;\n",
       "    }\n",
       "</style>\n",
       "<table border=\"1\" class=\"dataframe\">\n",
       "  <thead>\n",
       "    <tr style=\"text-align: right;\">\n",
       "      <th></th>\n",
       "      <th>SK_ID_CURR</th>\n",
       "      <th>TARGET</th>\n",
       "      <th>NAME_CONTRACT_TYPE</th>\n",
       "      <th>CODE_GENDER</th>\n",
       "      <th>FLAG_OWN_CAR</th>\n",
       "      <th>FLAG_OWN_REALTY</th>\n",
       "      <th>CNT_CHILDREN</th>\n",
       "      <th>AMT_INCOME_TOTAL</th>\n",
       "      <th>AMT_CREDIT</th>\n",
       "      <th>AMT_ANNUITY</th>\n",
       "      <th>...</th>\n",
       "      <th>FLAG_DOCUMENT_18</th>\n",
       "      <th>FLAG_DOCUMENT_19</th>\n",
       "      <th>FLAG_DOCUMENT_20</th>\n",
       "      <th>FLAG_DOCUMENT_21</th>\n",
       "      <th>AMT_REQ_CREDIT_BUREAU_HOUR</th>\n",
       "      <th>AMT_REQ_CREDIT_BUREAU_DAY</th>\n",
       "      <th>AMT_REQ_CREDIT_BUREAU_WEEK</th>\n",
       "      <th>AMT_REQ_CREDIT_BUREAU_MON</th>\n",
       "      <th>AMT_REQ_CREDIT_BUREAU_QRT</th>\n",
       "      <th>AMT_REQ_CREDIT_BUREAU_YEAR</th>\n",
       "    </tr>\n",
       "  </thead>\n",
       "  <tbody>\n",
       "    <tr>\n",
       "      <th>0</th>\n",
       "      <td>100002</td>\n",
       "      <td>1</td>\n",
       "      <td>Cash loans</td>\n",
       "      <td>M</td>\n",
       "      <td>N</td>\n",
       "      <td>Y</td>\n",
       "      <td>0</td>\n",
       "      <td>202500.0</td>\n",
       "      <td>406597.5</td>\n",
       "      <td>24700.5</td>\n",
       "      <td>...</td>\n",
       "      <td>0</td>\n",
       "      <td>0</td>\n",
       "      <td>0</td>\n",
       "      <td>0</td>\n",
       "      <td>0.0</td>\n",
       "      <td>0.0</td>\n",
       "      <td>0.0</td>\n",
       "      <td>0.0</td>\n",
       "      <td>0.0</td>\n",
       "      <td>1.0</td>\n",
       "    </tr>\n",
       "    <tr>\n",
       "      <th>1</th>\n",
       "      <td>100003</td>\n",
       "      <td>0</td>\n",
       "      <td>Cash loans</td>\n",
       "      <td>F</td>\n",
       "      <td>N</td>\n",
       "      <td>N</td>\n",
       "      <td>0</td>\n",
       "      <td>270000.0</td>\n",
       "      <td>1293502.5</td>\n",
       "      <td>35698.5</td>\n",
       "      <td>...</td>\n",
       "      <td>0</td>\n",
       "      <td>0</td>\n",
       "      <td>0</td>\n",
       "      <td>0</td>\n",
       "      <td>0.0</td>\n",
       "      <td>0.0</td>\n",
       "      <td>0.0</td>\n",
       "      <td>0.0</td>\n",
       "      <td>0.0</td>\n",
       "      <td>0.0</td>\n",
       "    </tr>\n",
       "    <tr>\n",
       "      <th>2</th>\n",
       "      <td>100004</td>\n",
       "      <td>0</td>\n",
       "      <td>Revolving loans</td>\n",
       "      <td>M</td>\n",
       "      <td>Y</td>\n",
       "      <td>Y</td>\n",
       "      <td>0</td>\n",
       "      <td>67500.0</td>\n",
       "      <td>135000.0</td>\n",
       "      <td>6750.0</td>\n",
       "      <td>...</td>\n",
       "      <td>0</td>\n",
       "      <td>0</td>\n",
       "      <td>0</td>\n",
       "      <td>0</td>\n",
       "      <td>0.0</td>\n",
       "      <td>0.0</td>\n",
       "      <td>0.0</td>\n",
       "      <td>0.0</td>\n",
       "      <td>0.0</td>\n",
       "      <td>0.0</td>\n",
       "    </tr>\n",
       "    <tr>\n",
       "      <th>3</th>\n",
       "      <td>100006</td>\n",
       "      <td>0</td>\n",
       "      <td>Cash loans</td>\n",
       "      <td>F</td>\n",
       "      <td>N</td>\n",
       "      <td>Y</td>\n",
       "      <td>0</td>\n",
       "      <td>135000.0</td>\n",
       "      <td>312682.5</td>\n",
       "      <td>29686.5</td>\n",
       "      <td>...</td>\n",
       "      <td>0</td>\n",
       "      <td>0</td>\n",
       "      <td>0</td>\n",
       "      <td>0</td>\n",
       "      <td>NaN</td>\n",
       "      <td>NaN</td>\n",
       "      <td>NaN</td>\n",
       "      <td>NaN</td>\n",
       "      <td>NaN</td>\n",
       "      <td>NaN</td>\n",
       "    </tr>\n",
       "    <tr>\n",
       "      <th>4</th>\n",
       "      <td>100007</td>\n",
       "      <td>0</td>\n",
       "      <td>Cash loans</td>\n",
       "      <td>M</td>\n",
       "      <td>N</td>\n",
       "      <td>Y</td>\n",
       "      <td>0</td>\n",
       "      <td>121500.0</td>\n",
       "      <td>513000.0</td>\n",
       "      <td>21865.5</td>\n",
       "      <td>...</td>\n",
       "      <td>0</td>\n",
       "      <td>0</td>\n",
       "      <td>0</td>\n",
       "      <td>0</td>\n",
       "      <td>0.0</td>\n",
       "      <td>0.0</td>\n",
       "      <td>0.0</td>\n",
       "      <td>0.0</td>\n",
       "      <td>0.0</td>\n",
       "      <td>0.0</td>\n",
       "    </tr>\n",
       "  </tbody>\n",
       "</table>\n",
       "<p>5 rows × 122 columns</p>\n",
       "</div>"
      ],
      "text/plain": [
       "   SK_ID_CURR  TARGET NAME_CONTRACT_TYPE CODE_GENDER FLAG_OWN_CAR  \\\n",
       "0      100002       1         Cash loans           M            N   \n",
       "1      100003       0         Cash loans           F            N   \n",
       "2      100004       0    Revolving loans           M            Y   \n",
       "3      100006       0         Cash loans           F            N   \n",
       "4      100007       0         Cash loans           M            N   \n",
       "\n",
       "  FLAG_OWN_REALTY  CNT_CHILDREN  AMT_INCOME_TOTAL  AMT_CREDIT  AMT_ANNUITY  \\\n",
       "0               Y             0          202500.0    406597.5      24700.5   \n",
       "1               N             0          270000.0   1293502.5      35698.5   \n",
       "2               Y             0           67500.0    135000.0       6750.0   \n",
       "3               Y             0          135000.0    312682.5      29686.5   \n",
       "4               Y             0          121500.0    513000.0      21865.5   \n",
       "\n",
       "   ...  FLAG_DOCUMENT_18 FLAG_DOCUMENT_19 FLAG_DOCUMENT_20 FLAG_DOCUMENT_21  \\\n",
       "0  ...                 0                0                0                0   \n",
       "1  ...                 0                0                0                0   \n",
       "2  ...                 0                0                0                0   \n",
       "3  ...                 0                0                0                0   \n",
       "4  ...                 0                0                0                0   \n",
       "\n",
       "  AMT_REQ_CREDIT_BUREAU_HOUR AMT_REQ_CREDIT_BUREAU_DAY  \\\n",
       "0                        0.0                       0.0   \n",
       "1                        0.0                       0.0   \n",
       "2                        0.0                       0.0   \n",
       "3                        NaN                       NaN   \n",
       "4                        0.0                       0.0   \n",
       "\n",
       "   AMT_REQ_CREDIT_BUREAU_WEEK  AMT_REQ_CREDIT_BUREAU_MON  \\\n",
       "0                         0.0                        0.0   \n",
       "1                         0.0                        0.0   \n",
       "2                         0.0                        0.0   \n",
       "3                         NaN                        NaN   \n",
       "4                         0.0                        0.0   \n",
       "\n",
       "   AMT_REQ_CREDIT_BUREAU_QRT  AMT_REQ_CREDIT_BUREAU_YEAR  \n",
       "0                        0.0                         1.0  \n",
       "1                        0.0                         0.0  \n",
       "2                        0.0                         0.0  \n",
       "3                        NaN                         NaN  \n",
       "4                        0.0                         0.0  \n",
       "\n",
       "[5 rows x 122 columns]"
      ]
     },
     "execution_count": 7,
     "metadata": {},
     "output_type": "execute_result"
    }
   ],
   "source": [
    "app_train = pd.read_csv('./input/application_train.csv')\n",
    "print('Training data shape: ', app_train.shape)\n",
    "app_train.head()"
   ]
  },
  {
   "cell_type": "markdown",
   "metadata": {
    "_uuid": "4695541966d3d29e8a7a8975b072d01caff1631d"
   },
   "source": [
    "訓練資料共有 307511 個觀察點以及 122 個特徵變數 (包含`TARGET`，也就是我們要預測的東西)。"
   ]
  },
  {
   "cell_type": "code",
   "execution_count": 8,
   "metadata": {
    "_cell_guid": "d077aee0-5271-440e-bc07-6087eab40b74",
    "_uuid": "cbd1c4111df6f07bc0d479b51f50895e728b717a"
   },
   "outputs": [
    {
     "name": "stdout",
     "output_type": "stream",
     "text": [
      "Testing data shape:  (48744, 121)\n"
     ]
    },
    {
     "data": {
      "text/html": [
       "<div>\n",
       "<style scoped>\n",
       "    .dataframe tbody tr th:only-of-type {\n",
       "        vertical-align: middle;\n",
       "    }\n",
       "\n",
       "    .dataframe tbody tr th {\n",
       "        vertical-align: top;\n",
       "    }\n",
       "\n",
       "    .dataframe thead th {\n",
       "        text-align: right;\n",
       "    }\n",
       "</style>\n",
       "<table border=\"1\" class=\"dataframe\">\n",
       "  <thead>\n",
       "    <tr style=\"text-align: right;\">\n",
       "      <th></th>\n",
       "      <th>SK_ID_CURR</th>\n",
       "      <th>NAME_CONTRACT_TYPE</th>\n",
       "      <th>CODE_GENDER</th>\n",
       "      <th>FLAG_OWN_CAR</th>\n",
       "      <th>FLAG_OWN_REALTY</th>\n",
       "      <th>CNT_CHILDREN</th>\n",
       "      <th>AMT_INCOME_TOTAL</th>\n",
       "      <th>AMT_CREDIT</th>\n",
       "      <th>AMT_ANNUITY</th>\n",
       "      <th>AMT_GOODS_PRICE</th>\n",
       "      <th>...</th>\n",
       "      <th>FLAG_DOCUMENT_18</th>\n",
       "      <th>FLAG_DOCUMENT_19</th>\n",
       "      <th>FLAG_DOCUMENT_20</th>\n",
       "      <th>FLAG_DOCUMENT_21</th>\n",
       "      <th>AMT_REQ_CREDIT_BUREAU_HOUR</th>\n",
       "      <th>AMT_REQ_CREDIT_BUREAU_DAY</th>\n",
       "      <th>AMT_REQ_CREDIT_BUREAU_WEEK</th>\n",
       "      <th>AMT_REQ_CREDIT_BUREAU_MON</th>\n",
       "      <th>AMT_REQ_CREDIT_BUREAU_QRT</th>\n",
       "      <th>AMT_REQ_CREDIT_BUREAU_YEAR</th>\n",
       "    </tr>\n",
       "  </thead>\n",
       "  <tbody>\n",
       "    <tr>\n",
       "      <th>0</th>\n",
       "      <td>100001</td>\n",
       "      <td>Cash loans</td>\n",
       "      <td>F</td>\n",
       "      <td>N</td>\n",
       "      <td>Y</td>\n",
       "      <td>0</td>\n",
       "      <td>135000.0</td>\n",
       "      <td>568800.0</td>\n",
       "      <td>20560.5</td>\n",
       "      <td>450000.0</td>\n",
       "      <td>...</td>\n",
       "      <td>0</td>\n",
       "      <td>0</td>\n",
       "      <td>0</td>\n",
       "      <td>0</td>\n",
       "      <td>0.0</td>\n",
       "      <td>0.0</td>\n",
       "      <td>0.0</td>\n",
       "      <td>0.0</td>\n",
       "      <td>0.0</td>\n",
       "      <td>0.0</td>\n",
       "    </tr>\n",
       "    <tr>\n",
       "      <th>1</th>\n",
       "      <td>100005</td>\n",
       "      <td>Cash loans</td>\n",
       "      <td>M</td>\n",
       "      <td>N</td>\n",
       "      <td>Y</td>\n",
       "      <td>0</td>\n",
       "      <td>99000.0</td>\n",
       "      <td>222768.0</td>\n",
       "      <td>17370.0</td>\n",
       "      <td>180000.0</td>\n",
       "      <td>...</td>\n",
       "      <td>0</td>\n",
       "      <td>0</td>\n",
       "      <td>0</td>\n",
       "      <td>0</td>\n",
       "      <td>0.0</td>\n",
       "      <td>0.0</td>\n",
       "      <td>0.0</td>\n",
       "      <td>0.0</td>\n",
       "      <td>0.0</td>\n",
       "      <td>3.0</td>\n",
       "    </tr>\n",
       "    <tr>\n",
       "      <th>2</th>\n",
       "      <td>100013</td>\n",
       "      <td>Cash loans</td>\n",
       "      <td>M</td>\n",
       "      <td>Y</td>\n",
       "      <td>Y</td>\n",
       "      <td>0</td>\n",
       "      <td>202500.0</td>\n",
       "      <td>663264.0</td>\n",
       "      <td>69777.0</td>\n",
       "      <td>630000.0</td>\n",
       "      <td>...</td>\n",
       "      <td>0</td>\n",
       "      <td>0</td>\n",
       "      <td>0</td>\n",
       "      <td>0</td>\n",
       "      <td>0.0</td>\n",
       "      <td>0.0</td>\n",
       "      <td>0.0</td>\n",
       "      <td>0.0</td>\n",
       "      <td>1.0</td>\n",
       "      <td>4.0</td>\n",
       "    </tr>\n",
       "    <tr>\n",
       "      <th>3</th>\n",
       "      <td>100028</td>\n",
       "      <td>Cash loans</td>\n",
       "      <td>F</td>\n",
       "      <td>N</td>\n",
       "      <td>Y</td>\n",
       "      <td>2</td>\n",
       "      <td>315000.0</td>\n",
       "      <td>1575000.0</td>\n",
       "      <td>49018.5</td>\n",
       "      <td>1575000.0</td>\n",
       "      <td>...</td>\n",
       "      <td>0</td>\n",
       "      <td>0</td>\n",
       "      <td>0</td>\n",
       "      <td>0</td>\n",
       "      <td>0.0</td>\n",
       "      <td>0.0</td>\n",
       "      <td>0.0</td>\n",
       "      <td>0.0</td>\n",
       "      <td>0.0</td>\n",
       "      <td>3.0</td>\n",
       "    </tr>\n",
       "    <tr>\n",
       "      <th>4</th>\n",
       "      <td>100038</td>\n",
       "      <td>Cash loans</td>\n",
       "      <td>M</td>\n",
       "      <td>Y</td>\n",
       "      <td>N</td>\n",
       "      <td>1</td>\n",
       "      <td>180000.0</td>\n",
       "      <td>625500.0</td>\n",
       "      <td>32067.0</td>\n",
       "      <td>625500.0</td>\n",
       "      <td>...</td>\n",
       "      <td>0</td>\n",
       "      <td>0</td>\n",
       "      <td>0</td>\n",
       "      <td>0</td>\n",
       "      <td>NaN</td>\n",
       "      <td>NaN</td>\n",
       "      <td>NaN</td>\n",
       "      <td>NaN</td>\n",
       "      <td>NaN</td>\n",
       "      <td>NaN</td>\n",
       "    </tr>\n",
       "  </tbody>\n",
       "</table>\n",
       "<p>5 rows × 121 columns</p>\n",
       "</div>"
      ],
      "text/plain": [
       "   SK_ID_CURR NAME_CONTRACT_TYPE CODE_GENDER FLAG_OWN_CAR FLAG_OWN_REALTY  \\\n",
       "0      100001         Cash loans           F            N               Y   \n",
       "1      100005         Cash loans           M            N               Y   \n",
       "2      100013         Cash loans           M            Y               Y   \n",
       "3      100028         Cash loans           F            N               Y   \n",
       "4      100038         Cash loans           M            Y               N   \n",
       "\n",
       "   CNT_CHILDREN  AMT_INCOME_TOTAL  AMT_CREDIT  AMT_ANNUITY  AMT_GOODS_PRICE  \\\n",
       "0             0          135000.0    568800.0      20560.5         450000.0   \n",
       "1             0           99000.0    222768.0      17370.0         180000.0   \n",
       "2             0          202500.0    663264.0      69777.0         630000.0   \n",
       "3             2          315000.0   1575000.0      49018.5        1575000.0   \n",
       "4             1          180000.0    625500.0      32067.0         625500.0   \n",
       "\n",
       "   ... FLAG_DOCUMENT_18 FLAG_DOCUMENT_19 FLAG_DOCUMENT_20 FLAG_DOCUMENT_21  \\\n",
       "0  ...                0                0                0                0   \n",
       "1  ...                0                0                0                0   \n",
       "2  ...                0                0                0                0   \n",
       "3  ...                0                0                0                0   \n",
       "4  ...                0                0                0                0   \n",
       "\n",
       "  AMT_REQ_CREDIT_BUREAU_HOUR  AMT_REQ_CREDIT_BUREAU_DAY  \\\n",
       "0                        0.0                        0.0   \n",
       "1                        0.0                        0.0   \n",
       "2                        0.0                        0.0   \n",
       "3                        0.0                        0.0   \n",
       "4                        NaN                        NaN   \n",
       "\n",
       "   AMT_REQ_CREDIT_BUREAU_WEEK  AMT_REQ_CREDIT_BUREAU_MON  \\\n",
       "0                         0.0                        0.0   \n",
       "1                         0.0                        0.0   \n",
       "2                         0.0                        0.0   \n",
       "3                         0.0                        0.0   \n",
       "4                         NaN                        NaN   \n",
       "\n",
       "   AMT_REQ_CREDIT_BUREAU_QRT  AMT_REQ_CREDIT_BUREAU_YEAR  \n",
       "0                        0.0                         0.0  \n",
       "1                        0.0                         3.0  \n",
       "2                        1.0                         4.0  \n",
       "3                        0.0                         3.0  \n",
       "4                        NaN                         NaN  \n",
       "\n",
       "[5 rows x 121 columns]"
      ]
     },
     "execution_count": 8,
     "metadata": {},
     "output_type": "execute_result"
    }
   ],
   "source": [
    "app_test = pd.read_csv('./input/application_test.csv')\n",
    "print('Testing data shape: ', app_test.shape)\n",
    "app_test.head()"
   ]
  },
  {
   "cell_type": "markdown",
   "metadata": {
    "_uuid": "e351f02c8a5886756507a2d4f1ddba4791220f12"
   },
   "source": [
    "test資料比較小而且沒有 `TARGET` 欄位。 "
   ]
  },
  {
   "cell_type": "markdown",
   "metadata": {
    "_uuid": "0b1a02afd367d1c4ee3a3a936382ca42fb921b9d"
   },
   "source": [
    "## 探索式資料分析\n",
    "\n",
    "探索式資料分析 (Exploratory Data Analysis, EDA) 是一種探索未知的過程。我們會除了基本的統計分析外，會特別尋找資料中的偏差性、異常值、重複的模式或彼此的關係。EDA的目標是讓我們了解資料，並從中取出可以利用的特徵。我們通常會從 High-Level Overview 開始尋找，然後隨著發現一些規律或有趣的結果後逐漸收斂到較小的分析範圍。"
   ]
  },
  {
   "cell_type": "markdown",
   "metadata": {
    "_cell_guid": "23b20e53-3484-4c4b-bec9-2d8ac2ac918d",
    "_uuid": "7c006a09627df1333c557dc11a09f372bde34dda"
   },
   "source": [
    "### 檢查標籤分布"
   ]
  },
  {
   "cell_type": "code",
   "execution_count": 5,
   "metadata": {
    "_cell_guid": "5fb6ab16-1b38-4ecf-8123-e48c7c061773",
    "_uuid": "2163ca09678b53dbe88388ccbc7d0e0f7d6c6230"
   },
   "outputs": [
    {
     "data": {
      "text/plain": [
       "0    282686\n",
       "1     24825\n",
       "Name: TARGET, dtype: int64"
      ]
     },
     "execution_count": 5,
     "metadata": {},
     "output_type": "execute_result"
    }
   ],
   "source": [
    "app_train['TARGET'].value_counts()"
   ]
  },
  {
   "cell_type": "code",
   "execution_count": 6,
   "metadata": {
    "_cell_guid": "0e93c1e2-f6b8-4a0b-82b6-7dad8df56048",
    "_uuid": "1b2611fb3cf392023c3f40fd2f7b96f56f5dee7d"
   },
   "outputs": [
    {
     "data": {
      "text/plain": [
       "<matplotlib.axes._subplots.AxesSubplot at 0x29a3b489748>"
      ]
     },
     "execution_count": 6,
     "metadata": {},
     "output_type": "execute_result"
    },
    {
     "data": {
      "image/png": "[encoded data removed]",
      "text/plain": [
       "<Figure size 432x288 with 1 Axes>"
      ]
     },
     "metadata": {
      "needs_background": "light"
     },
     "output_type": "display_data"
    }
   ],
   "source": [
    "app_train['TARGET'].astype(int).plot.hist()"
   ]
  },
  {
   "cell_type": "markdown",
   "metadata": {
    "_cell_guid": "48f008ff-d81e-46b2-80a3-e58f2a6627ca",
    "_uuid": "119106000875202a0030109f14b73245fc4285e1"
   },
   "source": [
    "發現標籤中只有 0 跟 1，而且比例非常不平均(Unbalanced分類問題)。"
   ]
  },
  {
   "cell_type": "markdown",
   "metadata": {
    "_cell_guid": "507ec6b1-99d0-4324-a3ed-bdea2f916227",
    "_uuid": "58851dfef481f32b3026e89b086534ea3683440d"
   },
   "source": [
    "### 檢查遺失值"
   ]
  },
  {
   "cell_type": "code",
   "execution_count": 9,
   "metadata": {
    "_cell_guid": "fc4c675f-e4a1-4e4f-9ece-3c59e5c8f7fd",
    "_uuid": "7a2f5c72c45fa04d9fa95e8051ae595be806e9a2"
   },
   "outputs": [],
   "source": [
    "def missing_values_table(df):\n",
    "        mis_val = df.isnull().sum()\n",
    "        \n",
    "        mis_val_percent = 100 * df.isnull().sum() / len(df)\n",
    "        \n",
    "        mis_val_table = pd.concat([mis_val, mis_val_percent], axis=1)\n",
    "        \n",
    "        mis_val_table_ren_columns = mis_val_table.rename(\n",
    "        columns = {0 : 'Missing Values', 1 : '% of Total Values'})\n",
    "        \n",
    "        mis_val_table_ren_columns = mis_val_table_ren_columns[\n",
    "            mis_val_table_ren_columns.iloc[:,1] != 0].sort_values(\n",
    "        '% of Total Values', ascending=False).round(1)\n",
    "        \n",
    "        print (\"Your selected dataframe has \" + str(df.shape[1]) + \" columns.\\n\"      \n",
    "            \"There are \" + str(mis_val_table_ren_columns.shape[0]) +\n",
    "              \" columns that have missing values.\")\n",
    "        \n",
    "        return mis_val_table_ren_columns"
   ]
  },
  {
   "cell_type": "code",
   "execution_count": 10,
   "metadata": {
    "_cell_guid": "786881f0-235e-441c-8319-f715a3b7d920",
    "_uuid": "98b0a82a3009b8f6d0bc718a2e1eaba779b4ace9"
   },
   "outputs": [
    {
     "name": "stdout",
     "output_type": "stream",
     "text": [
      "Your selected dataframe has 122 columns.\n",
      "There are 67 columns that have missing values.\n"
     ]
    },
    {
     "data": {
      "text/html": [
       "<div>\n",
       "<style scoped>\n",
       "    .dataframe tbody tr th:only-of-type {\n",
       "        vertical-align: middle;\n",
       "    }\n",
       "\n",
       "    .dataframe tbody tr th {\n",
       "        vertical-align: top;\n",
       "    }\n",
       "\n",
       "    .dataframe thead th {\n",
       "        text-align: right;\n",
       "    }\n",
       "</style>\n",
       "<table border=\"1\" class=\"dataframe\">\n",
       "  <thead>\n",
       "    <tr style=\"text-align: right;\">\n",
       "      <th></th>\n",
       "      <th>Missing Values</th>\n",
       "      <th>% of Total Values</th>\n",
       "    </tr>\n",
       "  </thead>\n",
       "  <tbody>\n",
       "    <tr>\n",
       "      <th>COMMONAREA_MEDI</th>\n",
       "      <td>214865</td>\n",
       "      <td>69.9</td>\n",
       "    </tr>\n",
       "    <tr>\n",
       "      <th>COMMONAREA_AVG</th>\n",
       "      <td>214865</td>\n",
       "      <td>69.9</td>\n",
       "    </tr>\n",
       "    <tr>\n",
       "      <th>COMMONAREA_MODE</th>\n",
       "      <td>214865</td>\n",
       "      <td>69.9</td>\n",
       "    </tr>\n",
       "    <tr>\n",
       "      <th>NONLIVINGAPARTMENTS_MEDI</th>\n",
       "      <td>213514</td>\n",
       "      <td>69.4</td>\n",
       "    </tr>\n",
       "    <tr>\n",
       "      <th>NONLIVINGAPARTMENTS_MODE</th>\n",
       "      <td>213514</td>\n",
       "      <td>69.4</td>\n",
       "    </tr>\n",
       "    <tr>\n",
       "      <th>NONLIVINGAPARTMENTS_AVG</th>\n",
       "      <td>213514</td>\n",
       "      <td>69.4</td>\n",
       "    </tr>\n",
       "    <tr>\n",
       "      <th>FONDKAPREMONT_MODE</th>\n",
       "      <td>210295</td>\n",
       "      <td>68.4</td>\n",
       "    </tr>\n",
       "    <tr>\n",
       "      <th>LIVINGAPARTMENTS_MODE</th>\n",
       "      <td>210199</td>\n",
       "      <td>68.4</td>\n",
       "    </tr>\n",
       "    <tr>\n",
       "      <th>LIVINGAPARTMENTS_MEDI</th>\n",
       "      <td>210199</td>\n",
       "      <td>68.4</td>\n",
       "    </tr>\n",
       "    <tr>\n",
       "      <th>LIVINGAPARTMENTS_AVG</th>\n",
       "      <td>210199</td>\n",
       "      <td>68.4</td>\n",
       "    </tr>\n",
       "    <tr>\n",
       "      <th>FLOORSMIN_MODE</th>\n",
       "      <td>208642</td>\n",
       "      <td>67.8</td>\n",
       "    </tr>\n",
       "    <tr>\n",
       "      <th>FLOORSMIN_MEDI</th>\n",
       "      <td>208642</td>\n",
       "      <td>67.8</td>\n",
       "    </tr>\n",
       "    <tr>\n",
       "      <th>FLOORSMIN_AVG</th>\n",
       "      <td>208642</td>\n",
       "      <td>67.8</td>\n",
       "    </tr>\n",
       "    <tr>\n",
       "      <th>YEARS_BUILD_MODE</th>\n",
       "      <td>204488</td>\n",
       "      <td>66.5</td>\n",
       "    </tr>\n",
       "    <tr>\n",
       "      <th>YEARS_BUILD_MEDI</th>\n",
       "      <td>204488</td>\n",
       "      <td>66.5</td>\n",
       "    </tr>\n",
       "    <tr>\n",
       "      <th>YEARS_BUILD_AVG</th>\n",
       "      <td>204488</td>\n",
       "      <td>66.5</td>\n",
       "    </tr>\n",
       "    <tr>\n",
       "      <th>OWN_CAR_AGE</th>\n",
       "      <td>202929</td>\n",
       "      <td>66.0</td>\n",
       "    </tr>\n",
       "    <tr>\n",
       "      <th>LANDAREA_AVG</th>\n",
       "      <td>182590</td>\n",
       "      <td>59.4</td>\n",
       "    </tr>\n",
       "    <tr>\n",
       "      <th>LANDAREA_MEDI</th>\n",
       "      <td>182590</td>\n",
       "      <td>59.4</td>\n",
       "    </tr>\n",
       "    <tr>\n",
       "      <th>LANDAREA_MODE</th>\n",
       "      <td>182590</td>\n",
       "      <td>59.4</td>\n",
       "    </tr>\n",
       "  </tbody>\n",
       "</table>\n",
       "</div>"
      ],
      "text/plain": [
       "                          Missing Values  % of Total Values\n",
       "COMMONAREA_MEDI                   214865               69.9\n",
       "COMMONAREA_AVG                    214865               69.9\n",
       "COMMONAREA_MODE                   214865               69.9\n",
       "NONLIVINGAPARTMENTS_MEDI          213514               69.4\n",
       "NONLIVINGAPARTMENTS_MODE          213514               69.4\n",
       "NONLIVINGAPARTMENTS_AVG           213514               69.4\n",
       "FONDKAPREMONT_MODE                210295               68.4\n",
       "LIVINGAPARTMENTS_MODE             210199               68.4\n",
       "LIVINGAPARTMENTS_MEDI             210199               68.4\n",
       "LIVINGAPARTMENTS_AVG              210199               68.4\n",
       "FLOORSMIN_MODE                    208642               67.8\n",
       "FLOORSMIN_MEDI                    208642               67.8\n",
       "FLOORSMIN_AVG                     208642               67.8\n",
       "YEARS_BUILD_MODE                  204488               66.5\n",
       "YEARS_BUILD_MEDI                  204488               66.5\n",
       "YEARS_BUILD_AVG                   204488               66.5\n",
       "OWN_CAR_AGE                       202929               66.0\n",
       "LANDAREA_AVG                      182590               59.4\n",
       "LANDAREA_MEDI                     182590               59.4\n",
       "LANDAREA_MODE                     182590               59.4"
      ]
     },
     "execution_count": 10,
     "metadata": {},
     "output_type": "execute_result"
    }
   ],
   "source": [
    "missing_values = missing_values_table(app_train)\n",
    "missing_values.head(20)"
   ]
  },
  {
   "cell_type": "markdown",
   "metadata": {
    "_cell_guid": "df3c6a1d-b3ff-4565-bb32-5cba43c52729",
    "_uuid": "0b1be19103910ce83ebf54eeed99e42829643578"
   },
   "source": [
    "在未來我們會嘗試去填補這些遺失值。"
   ]
  },
  {
   "cell_type": "markdown",
   "metadata": {
    "_uuid": "0672e40c3ab75a7901c0de35d248b322a227dc7f"
   },
   "source": [
    "### 特徵資料型態\n"
   ]
  },
  {
   "cell_type": "code",
   "execution_count": 9,
   "metadata": {
    "_uuid": "a03caadd76fa32f4b193e52467d4f39f2145d7b6"
   },
   "outputs": [
    {
     "data": {
      "text/plain": [
       "float64    65\n",
       "int64      41\n",
       "object     16\n",
       "dtype: int64"
      ]
     },
     "execution_count": 9,
     "metadata": {},
     "output_type": "execute_result"
    }
   ],
   "source": [
    "app_train.dtypes.value_counts()"
   ]
  },
  {
   "cell_type": "markdown",
   "metadata": {},
   "source": [
    "`int64` 和 `float64` 是數值資料，而 `object` 是類別資料。 "
   ]
  },
  {
   "cell_type": "markdown",
   "metadata": {
    "_uuid": "5859303c9acc63f7ff7acce063a9cd022a6d38cd"
   },
   "source": [
    "其中 `object` (類別資料) 又可以列出以下類別："
   ]
  },
  {
   "cell_type": "code",
   "execution_count": 10,
   "metadata": {
    "_uuid": "2d021eda10939a19b141292d34491b357acd201a"
   },
   "outputs": [
    {
     "data": {
      "text/plain": [
       "NAME_CONTRACT_TYPE             2\n",
       "CODE_GENDER                    3\n",
       "FLAG_OWN_CAR                   2\n",
       "FLAG_OWN_REALTY                2\n",
       "NAME_TYPE_SUITE                7\n",
       "NAME_INCOME_TYPE               8\n",
       "NAME_EDUCATION_TYPE            5\n",
       "NAME_FAMILY_STATUS             6\n",
       "NAME_HOUSING_TYPE              6\n",
       "OCCUPATION_TYPE               18\n",
       "WEEKDAY_APPR_PROCESS_START     7\n",
       "ORGANIZATION_TYPE             58\n",
       "FONDKAPREMONT_MODE             4\n",
       "HOUSETYPE_MODE                 3\n",
       "WALLSMATERIAL_MODE             7\n",
       "EMERGENCYSTATE_MODE            2\n",
       "dtype: int64"
      ]
     },
     "execution_count": 10,
     "metadata": {},
     "output_type": "execute_result"
    }
   ],
   "source": [
    "app_train.select_dtypes('object').apply(pd.Series.nunique, axis = 0)"
   ]
  },
  {
   "cell_type": "markdown",
   "metadata": {
    "_uuid": "10ceaf3ba31e26c822b242b1278d93ebfbefcc0a"
   },
   "source": [
    "可以發現有些類別很少出現，我們在未來亦需要特別處理它們。"
   ]
  },
  {
   "cell_type": "markdown",
   "metadata": {
    "_cell_guid": "86d1b309-5524-4298-b873-2c1c09eddec6",
    "_uuid": "1b49e667293daabffd8a4b2b6d02cf44bf6a3ba8"
   },
   "source": [
    "### 對類別資料進行編碼\n",
    "\n",
    "由於大多數的機器學習或深度學習模型沒辦法處理異質資料(除了一些特別設計的 Decision Tree 或 Gradient Boosting Machine以外)，所以我們會需要找到一個方法去編碼上述的那些類別資料。常見的方法有幾種：\n",
    "\n",
    "* Label encoding: 將所有類別由 1 編碼到 N，特徵向量維度不變。\n",
    "\n",
    "![image](./label_encoding.png)\n",
    "\n",
    "* One-hot encoding: 類似統計上的 Dummy-Variable，但不考慮線性相依問題所以有幾個類別就產生幾維度的特徵向量(如 A、B、C 三類，會直接編碼成\\[1,0,0\\]、\\[0,1,0\\]、\\[0,0,1\\])。 \n",
    "\n",
    "![image](./one_hot_encoding.png)\n",
    "\n",
    "Label Encoding 會把所有類別由 1 編碼到 N，所以常常會產生無意義的順序性(比如貓、狗、豬，若編碼成 1、2、3 時可能會讓電腦誤會成他們具有順序性或者數值大小關係)。但 One-hot Encoding 不會。所以我們決定在只有兩類的類別資料實作 Label Encoding，然後其他兩類別以上的類別資料做 One-hot Encoding\n",
    "\n"
   ]
  },
  {
   "cell_type": "markdown",
   "metadata": {
    "_cell_guid": "95627792-157e-457a-88a8-3b3875c7e1d5",
    "_uuid": "46f5bf9a6de52e270aa911ffd895e704da5426ec"
   },
   "source": [
    "我們使用 Scikit-Learn 的 `LabelEncoder` 和 Pandas 的 `get_dummies(df)` 來實作編碼方法。"
   ]
  },
  {
   "cell_type": "code",
   "execution_count": 12,
   "metadata": {
    "_cell_guid": "70641d4d-1075-4837-8972-e58d70d8f242",
    "_uuid": "ddfaae5c3dcc7ec6bb47a2dffc10d364e8d25355"
   },
   "outputs": [
    {
     "name": "stdout",
     "output_type": "stream",
     "text": [
      "0 columns were label encoded.\n"
     ]
    }
   ],
   "source": [
    "le = LabelEncoder()\n",
    "le_count = 0\n",
    "\n",
    "for col in app_train:\n",
    "    if app_train[col].dtype == 'object':\n",
    "        if len(list(app_train[col].unique())) <= 2:\n",
    "            le.fit(app_train[col])\n",
    "            app_train[col] = le.transform(app_train[col])\n",
    "            app_test[col] = le.transform(app_test[col])\n",
    "            le_count += 1\n",
    "            \n",
    "print('%d columns were label encoded.' % le_count)"
   ]
  },
  {
   "cell_type": "code",
   "execution_count": 13,
   "metadata": {
    "_cell_guid": "0851773b-39fd-4cf0-9a66-e30adeef3e57",
    "_uuid": "6796c6dc793a08e162b6e20c6f185ef37bdf51f3"
   },
   "outputs": [
    {
     "name": "stdout",
     "output_type": "stream",
     "text": [
      "Training Features shape:  (307511, 243)\n",
      "Testing Features shape:  (48744, 239)\n"
     ]
    }
   ],
   "source": [
    "app_train = pd.get_dummies(app_train)\n",
    "app_test = pd.get_dummies(app_test)\n",
    "\n",
    "print('Training Features shape: ', app_train.shape)\n",
    "print('Testing Features shape: ', app_test.shape)"
   ]
  },
  {
   "cell_type": "markdown",
   "metadata": {
    "_cell_guid": "61d910b5-84f5-4655-bd8a-d29672c13741",
    "_uuid": "1b2c4198638ec8e5155097d112249de8754eb5c0"
   },
   "source": [
    "### 建立 Training Set 和 Testing Set"
   ]
  },
  {
   "cell_type": "code",
   "execution_count": 14,
   "metadata": {
    "_cell_guid": "d99ca215-e893-490c-a6a4-83f3e8a067b3",
    "_uuid": "e0d12a13cb95521c19b10d8829e8abe2b1118396"
   },
   "outputs": [
    {
     "name": "stdout",
     "output_type": "stream",
     "text": [
      "Training Features shape:  (307511, 240)\n",
      "Testing Features shape:  (48744, 239)\n"
     ]
    }
   ],
   "source": [
    "train_labels = app_train['TARGET']\n",
    "\n",
    "app_train, app_test = app_train.align(app_test, join = 'inner', axis = 1)\n",
    "\n",
    "app_train['TARGET'] = train_labels\n",
    "\n",
    "print('Training Features shape: ', app_train.shape)\n",
    "print('Testing Features shape: ', app_test.shape)"
   ]
  },
  {
   "cell_type": "markdown",
   "metadata": {
    "_cell_guid": "13918211-0e6b-4d72-955b-f997db19eea2",
    "_uuid": "4d7c8dd1d5bb5a0ef84cb78e6bff927249e62145"
   },
   "source": [
    "### 檢查異常值\n",
    "\n",
    "我們使用 `describe` 函式來檢視統計敘述。日期相關的值是負的所以我們要加上負號，然後他記錄天數所以我們除以365來以年為單位。\n",
    "\n"
   ]
  },
  {
   "cell_type": "code",
   "execution_count": 14,
   "metadata": {
    "_uuid": "a60be93c2d7d63855e6d65c1109f408ad85da134"
   },
   "outputs": [
    {
     "data": {
      "text/plain": [
       "count    307511.000000\n",
       "mean         43.936973\n",
       "std          11.956133\n",
       "min          20.517808\n",
       "25%          34.008219\n",
       "50%          43.150685\n",
       "75%          53.923288\n",
       "max          69.120548\n",
       "Name: DAYS_BIRTH, dtype: float64"
      ]
     },
     "execution_count": 14,
     "metadata": {},
     "output_type": "execute_result"
    }
   ],
   "source": [
    "(-app_train['DAYS_BIRTH'] / 365).describe()"
   ]
  },
  {
   "cell_type": "markdown",
   "metadata": {
    "_uuid": "acb37a3e3f2e0b2fd581259788b9255398314157"
   },
   "source": [
    "我們可以看到 `DAYS_BIRTH` 部分沒有太大的異常。"
   ]
  },
  {
   "cell_type": "code",
   "execution_count": 15,
   "metadata": {
    "_uuid": "600c59dd5d970d3ccfea3a6af0036d85958adc91"
   },
   "outputs": [
    {
     "data": {
      "text/plain": [
       "count    307511.000000\n",
       "mean       -174.835742\n",
       "std         387.056895\n",
       "min       -1000.665753\n",
       "25%           0.791781\n",
       "50%           3.323288\n",
       "75%           7.561644\n",
       "max          49.073973\n",
       "Name: DAYS_EMPLOYED, dtype: float64"
      ]
     },
     "execution_count": 15,
     "metadata": {},
     "output_type": "execute_result"
    }
   ],
   "source": [
    "(-app_train['DAYS_EMPLOYED']/ 365).describe()"
   ]
  },
  {
   "cell_type": "markdown",
   "metadata": {
    "_uuid": "1cdd9dafce28e497e08062cd3b189ac353c04cd9"
   },
   "source": [
    "這肯定有異常值，最小值-1000並不合理。我們接著檢查 `DAYS_EMPLOYED` 的分布："
   ]
  },
  {
   "cell_type": "code",
   "execution_count": 16,
   "metadata": {
    "_uuid": "2878bfb3a2be4554f33e03e1a04d4c1978b52a08"
   },
   "outputs": [
    {
     "data": {
      "text/plain": [
       "Text(0.5,0,'Days Employment')"
      ]
     },
     "execution_count": 16,
     "metadata": {},
     "output_type": "execute_result"
    },
    {
     "data": {
      "image/png": "[encoded data removed]",
      "text/plain": [
       "<Figure size 432x288 with 1 Axes>"
      ]
     },
     "metadata": {
      "needs_background": "light"
     },
     "output_type": "display_data"
    }
   ],
   "source": [
    "app_train['DAYS_EMPLOYED'].plot.hist(title = 'Days Employment Histogram');\n",
    "plt.xlabel('Days Employment')"
   ]
  },
  {
   "cell_type": "markdown",
   "metadata": {},
   "source": [
    "我們發現 `DAYS_EMPLOYED` 的值大多分布在 50000 以下，所以可以合理懷疑 300000 以上的值是異常值。我們把他們都設為 `np.nan`。"
   ]
  },
  {
   "cell_type": "code",
   "execution_count": 16,
   "metadata": {
    "_uuid": "67ea87d9ef6974b1780a7db1eefd13f90f81b5be"
   },
   "outputs": [
    {
     "name": "stdout",
     "output_type": "stream",
     "text": [
      "The non-anomalies default on 8.66% of loans\n",
      "The anomalies default on 5.40% of loans\n",
      "There are 55374 anomalous days of employment\n"
     ]
    },
    {
     "data": {
      "text/plain": [
       "Text(0.5,0,'Days Employment')"
      ]
     },
     "execution_count": 16,
     "metadata": {},
     "output_type": "execute_result"
    },
    {
     "data": {
      "image/png": "[encoded data removed]",
      "text/plain": [
       "<Figure size 432x288 with 1 Axes>"
      ]
     },
     "metadata": {
      "needs_background": "light"
     },
     "output_type": "display_data"
    }
   ],
   "source": [
    "anom = app_train[app_train['DAYS_EMPLOYED'] > 300000]\n",
    "non_anom = app_train[app_train['DAYS_EMPLOYED'] <= 300000]\n",
    "print('The non-anomalies default on %0.2f%% of loans' % (100 * non_anom['TARGET'].mean()))\n",
    "print('The anomalies default on %0.2f%% of loans' % (100 * anom['TARGET'].mean()))\n",
    "print('There are %d anomalous days of employment' % len(anom))\n",
    "\n",
    "app_train['DAYS_EMPLOYED_ANOM'] = app_train[\"DAYS_EMPLOYED\"] > 300000\n",
    "\n",
    "rep = {val: np.nan for val in app_train['DAYS_EMPLOYED'] if val > 300000}\n",
    "app_train['DAYS_EMPLOYED'].replace(rep, inplace = True)\n",
    "\n",
    "(-app_train['DAYS_EMPLOYED']).plot.hist(title = 'Days Employment Histogram');\n",
    "plt.xlabel('Days Employment')"
   ]
  },
  {
   "cell_type": "markdown",
   "metadata": {
    "_uuid": "839595437c0721e2480f6b4ee58f3060b222f166"
   },
   "source": [
    "testing set 也要做同樣的動作(將異常值取代為 `np.nan` )。"
   ]
  },
  {
   "cell_type": "code",
   "execution_count": 15,
   "metadata": {
    "_uuid": "a0d7c77b2adecaa878f39cf86ffddcfbbe51a190"
   },
   "outputs": [
    {
     "name": "stdout",
     "output_type": "stream",
     "text": [
      "There are 9274 anomalies in the test data out of 48744 entries\n"
     ]
    }
   ],
   "source": [
    "app_test['DAYS_EMPLOYED_ANOM'] = app_test[\"DAYS_EMPLOYED\"] > 300000\n",
    "rep = {val: np.nan for val in app_test['DAYS_EMPLOYED'] if val > 300000}\n",
    "app_test[\"DAYS_EMPLOYED\"].replace(rep, inplace = True)\n",
    "\n",
    "print('There are %d anomalies in the test data out of %d entries' % (app_test[\"DAYS_EMPLOYED_ANOM\"].sum(), len(app_test)))"
   ]
  },
  {
   "cell_type": "markdown",
   "metadata": {
    "_uuid": "fd656b392faad3b34ecfa448b55ad03e75449e0a"
   },
   "source": [
    "### 相關係數\n",
    "\n",
    "我們直接使用 `.corr` 進行相關係數的計算。"
   ]
  },
  {
   "cell_type": "code",
   "execution_count": 18,
   "metadata": {
    "_cell_guid": "02acdb8d-d95f-41b9-8ad1-e2b6cb26f398",
    "_uuid": "d39d15d64db1f2c9015c6f542911ef9a9cac119e"
   },
   "outputs": [
    {
     "name": "stdout",
     "output_type": "stream",
     "text": [
      "Most Positive Correlations:\n",
      " OCCUPATION_TYPE_Laborers                             0.043019\n",
      "FLAG_DOCUMENT_3                                      0.044346\n",
      "REG_CITY_NOT_LIVE_CITY                               0.044395\n",
      "FLAG_EMP_PHONE                                       0.045982\n",
      "NAME_EDUCATION_TYPE_Secondary / secondary special    0.049824\n",
      "REG_CITY_NOT_WORK_CITY                               0.050994\n",
      "DAYS_ID_PUBLISH                                      0.051457\n",
      "CODE_GENDER_M                                        0.054713\n",
      "DAYS_LAST_PHONE_CHANGE                               0.055218\n",
      "NAME_INCOME_TYPE_Working                             0.057481\n",
      "REGION_RATING_CLIENT                                 0.058899\n",
      "REGION_RATING_CLIENT_W_CITY                          0.060893\n",
      "DAYS_EMPLOYED                                        0.074958\n",
      "DAYS_BIRTH                                           0.078239\n",
      "TARGET                                               1.000000\n",
      "Name: TARGET, dtype: float64\n",
      "\n",
      "Most Negative Correlations:\n",
      " EXT_SOURCE_3                           -0.178919\n",
      "EXT_SOURCE_2                           -0.160472\n",
      "EXT_SOURCE_1                           -0.155317\n",
      "NAME_EDUCATION_TYPE_Higher education   -0.056593\n",
      "CODE_GENDER_F                          -0.054704\n",
      "NAME_INCOME_TYPE_Pensioner             -0.046209\n",
      "DAYS_EMPLOYED_ANOM                     -0.045987\n",
      "ORGANIZATION_TYPE_XNA                  -0.045987\n",
      "FLOORSMAX_AVG                          -0.044003\n",
      "FLOORSMAX_MEDI                         -0.043768\n",
      "FLOORSMAX_MODE                         -0.043226\n",
      "EMERGENCYSTATE_MODE_No                 -0.042201\n",
      "HOUSETYPE_MODE_block of flats          -0.040594\n",
      "AMT_GOODS_PRICE                        -0.039645\n",
      "REGION_POPULATION_RELATIVE             -0.037227\n",
      "Name: TARGET, dtype: float64\n"
     ]
    }
   ],
   "source": [
    "correlations = app_train.corr()\n",
    "target_corr = correlations['TARGET'].sort_values()\n",
    "\n",
    "print('Most Positive Correlations:\\n', target_corr.tail(15))\n",
    "print('\\nMost Negative Correlations:\\n', target_corr.head(15))"
   ]
  },
  {
   "cell_type": "code",
   "execution_count": 21,
   "metadata": {},
   "outputs": [
    {
     "data": {
      "text/plain": [
       "Text(0.5,1,'Correlation Heatmap')"
      ]
     },
     "execution_count": 21,
     "metadata": {},
     "output_type": "execute_result"
    },
    {
     "data": {
      "image/png": "[encoded data removed]",
      "text/plain": [
       "<Figure size 576x432 with 2 Axes>"
      ]
     },
     "metadata": {
      "needs_background": "light"
     },
     "output_type": "display_data"
    }
   ],
   "source": [
    "plt.figure(figsize = (8, 6))\n",
    "\n",
    "plt_data = app_train[[c for c in app_train.columns if 'DAYS_' in c] + ['TARGET']]\n",
    "\n",
    "sns.heatmap(plt_data.corr(), cmap = plt.cm.RdYlBu_r, vmin = -0.25, annot = True, vmax = 0.6)\n",
    "plt.title('Correlation Heatmap')"
   ]
  },
  {
   "cell_type": "markdown",
   "metadata": {
    "_cell_guid": "8cfa409c-ec74-4fa4-8093-e7d00596c9c5",
    "_uuid": "67e1f0f22ec8e26c38827c24ca1e9409d73c9c64"
   },
   "source": [
    "可以發現 `DAYS_BIRTH` 是最相關的變數。"
   ]
  },
  {
   "cell_type": "markdown",
   "metadata": {
    "_cell_guid": "02f5d3c5-e527-430b-a38d-531aeb8f3dd1",
    "_uuid": "340680b4a4ecf310a6369808157b17cac7c13461"
   },
   "source": [
    "由於一般的分布圖沒辦法看出什麼有用的資訊，所以我們使用 [核密度估計](https://en.wikipedia.org/wiki/Kernel_density_estimation) (kernel density estimation, KDE) 來繪製 `DAYS_BIRTH` 和 `TARGET` 的關係圖。 KDE 可以被視為平滑過的直方圖。"
   ]
  },
  {
   "cell_type": "code",
   "execution_count": 22,
   "metadata": {
    "_cell_guid": "35e36393-e388-488e-ba7a-7473169d3e6f",
    "_uuid": "739226c4594130d6aabeb25ffb8742c37657d7a4"
   },
   "outputs": [
    {
     "data": {
      "image/png": "[encoded data removed]",
      "text/plain": [
       "<Figure size 720x576 with 1 Axes>"
      ]
     },
     "metadata": {
      "needs_background": "light"
     },
     "output_type": "display_data"
    }
   ],
   "source": [
    "plt.figure(figsize = (10, 8))\n",
    "sns.kdeplot(-app_train.loc[app_train['TARGET'] == 0, 'DAYS_BIRTH'] / 365, label = 'target == 0')\n",
    "\n",
    "sns.kdeplot(-app_train.loc[app_train['TARGET'] == 1, 'DAYS_BIRTH'] / 365, label = 'target == 1')\n",
    "\n",
    "plt.xlabel('Age (years)')\n",
    "plt.ylabel('Density')\n",
    "plt.title('Distribution of Ages')\n",
    "plt.show()"
   ]
  },
  {
   "cell_type": "markdown",
   "metadata": {
    "_cell_guid": "9749e164-efea-47d2-ab60-5a8b89ff0570",
    "_uuid": "57757e02285b8067b61e3f586174ad64bec78ac1"
   },
   "source": [
    "我們可以發現，沒有違約呈常態分佈，但年齡越低時違約的比例越高。"
   ]
  },
  {
   "cell_type": "markdown",
   "metadata": {
    "_cell_guid": "d12452cd-347e-4269-b3d4-f5f0589f4c5c",
    "_uuid": "a8bc307f9be27bfabbc3891deddbd94293ca03fa"
   },
   "source": [
    "## 訓練模型"
   ]
  },
  {
   "cell_type": "markdown",
   "metadata": {},
   "source": [
    "### Baseline\n",
    "\n",
    "由於是二分類問題，所以最低標準的準確率一定是 0.5。"
   ]
  },
  {
   "cell_type": "markdown",
   "metadata": {
    "_cell_guid": "ebb64e63-6222-4509-a43c-302c6435ce09",
    "_uuid": "8bf057e523b2d99833f6dc9d95fe6141fb4e325a"
   },
   "source": [
    "### Logistic Regression"
   ]
  },
  {
   "cell_type": "code",
   "execution_count": 36,
   "metadata": {
    "_cell_guid": "60ef8744-ca3a-4810-8439-2835fbfc1833",
    "_uuid": "784ae2f91cf7792702595a9973ba773b2acdec00"
   },
   "outputs": [
    {
     "name": "stdout",
     "output_type": "stream",
     "text": [
      "Training data shape:  (307511, 240)\n",
      "Testing data shape:  (48744, 240)\n"
     ]
    }
   ],
   "source": [
    "from sklearn.preprocessing import MinMaxScaler, Imputer\n",
    "\n",
    "if 'TARGET' in app_train:\n",
    "    train = app_train.drop(columns = ['TARGET'])\n",
    "else:\n",
    "    train = app_train.copy()\n",
    "    \n",
    "features = list(train.columns)\n",
    "\n",
    "test = app_test.copy()\n",
    "\n",
    "imputer = Imputer(strategy = 'median')\n",
    "scaler = MinMaxScaler(feature_range = (0, 1))\n",
    "imputer.fit(train)\n",
    "\n",
    "train = imputer.transform(train)\n",
    "test = imputer.transform(app_test)\n",
    "\n",
    "scaler.fit(train)\n",
    "train = scaler.transform(train)\n",
    "test = scaler.transform(test)\n",
    "\n",
    "print('Training data shape: ', train.shape)\n",
    "print('Testing data shape: ', test.shape)"
   ]
  },
  {
   "cell_type": "code",
   "execution_count": 37,
   "metadata": {
    "_cell_guid": "6462ff85-e3b6-4a5f-b95c-9416841413b1",
    "_uuid": "9e8aba9401e8367f9902d710ba49e820294870e1"
   },
   "outputs": [
    {
     "data": {
      "text/plain": [
       "LogisticRegression(C=0.0001, class_weight=None, dual=False, fit_intercept=True,\n",
       "                   intercept_scaling=1, l1_ratio=None, max_iter=100,\n",
       "                   multi_class='warn', n_jobs=None, penalty='l2',\n",
       "                   random_state=None, solver='warn', tol=0.0001, verbose=0,\n",
       "                   warm_start=False)"
      ]
     },
     "execution_count": 37,
     "metadata": {},
     "output_type": "execute_result"
    }
   ],
   "source": [
    "from sklearn.linear_model import LogisticRegression\n",
    "\n",
    "log_reg = LogisticRegression(C = 0.0001)\n",
    "\n",
    "log_reg.fit(train, train_labels)"
   ]
  },
  {
   "cell_type": "code",
   "execution_count": 39,
   "metadata": {
    "_uuid": "09a3d281e4c7ee6820f402e32f31775851113089"
   },
   "outputs": [
    {
     "data": {
      "text/html": [
       "<div>\n",
       "<style scoped>\n",
       "    .dataframe tbody tr th:only-of-type {\n",
       "        vertical-align: middle;\n",
       "    }\n",
       "\n",
       "    .dataframe tbody tr th {\n",
       "        vertical-align: top;\n",
       "    }\n",
       "\n",
       "    .dataframe thead th {\n",
       "        text-align: right;\n",
       "    }\n",
       "</style>\n",
       "<table border=\"1\" class=\"dataframe\">\n",
       "  <thead>\n",
       "    <tr style=\"text-align: right;\">\n",
       "      <th></th>\n",
       "      <th>SK_ID_CURR</th>\n",
       "      <th>TARGET</th>\n",
       "    </tr>\n",
       "  </thead>\n",
       "  <tbody>\n",
       "    <tr>\n",
       "      <th>0</th>\n",
       "      <td>100001</td>\n",
       "      <td>0.066677</td>\n",
       "    </tr>\n",
       "    <tr>\n",
       "      <th>1</th>\n",
       "      <td>100005</td>\n",
       "      <td>0.128855</td>\n",
       "    </tr>\n",
       "    <tr>\n",
       "      <th>2</th>\n",
       "      <td>100013</td>\n",
       "      <td>0.084450</td>\n",
       "    </tr>\n",
       "    <tr>\n",
       "      <th>3</th>\n",
       "      <td>100028</td>\n",
       "      <td>0.060502</td>\n",
       "    </tr>\n",
       "    <tr>\n",
       "      <th>4</th>\n",
       "      <td>100038</td>\n",
       "      <td>0.127878</td>\n",
       "    </tr>\n",
       "  </tbody>\n",
       "</table>\n",
       "</div>"
      ],
      "text/plain": [
       "   SK_ID_CURR    TARGET\n",
       "0      100001  0.066677\n",
       "1      100005  0.128855\n",
       "2      100013  0.084450\n",
       "3      100028  0.060502\n",
       "4      100038  0.127878"
      ]
     },
     "execution_count": 39,
     "metadata": {},
     "output_type": "execute_result"
    }
   ],
   "source": [
    "log_reg_pred = log_reg.predict_proba(test)[:, 1]\n",
    "\n",
    "submit = app_test[['SK_ID_CURR']]\n",
    "submit['TARGET'] = log_reg_pred\n",
    "\n",
    "submit.head()"
   ]
  },
  {
   "cell_type": "markdown",
   "metadata": {
    "_uuid": "2a1bf4f54df8b37a71a7732e61a7bfebafd8be11"
   },
   "source": [
    "Logistic Regression 的輸出結果會是機率值，我們也可以設定一個閥值後將它變成1或0的類別(二分類)。"
   ]
  },
  {
   "cell_type": "code",
   "execution_count": 40,
   "metadata": {
    "_cell_guid": "77204f15-c3b9-4c67-8d93-173fa3afceaa",
    "_uuid": "fcaf338e52d8f42f119b31d437b516e336e787ec"
   },
   "outputs": [],
   "source": [
    "submit.to_csv('log_reg_baseline.csv', index = False)"
   ]
  },
  {
   "cell_type": "markdown",
   "metadata": {
    "_uuid": "11e18bd5c4e75b931f90a22bc6ff84441a13570c"
   },
   "source": [
    "**Logistic regression 的成績為 0.671。**"
   ]
  },
  {
   "cell_type": "markdown",
   "metadata": {
    "_cell_guid": "462ea34f-3f66-490a-a61f-24a991271f69",
    "_uuid": "92687ac866441f6ee2919aa5e5c935490c172afc"
   },
   "source": [
    "### Random Forest\n",
    "\n",
    "隨機森林演算法是決策樹的延伸，我們也在這邊測試。"
   ]
  },
  {
   "cell_type": "code",
   "execution_count": 41,
   "metadata": {
    "_cell_guid": "6643479e-7980-431c-a6a2-9087acdb0f42",
    "_uuid": "cf05e2318904b8f3575ae233c185cd995fd07643"
   },
   "outputs": [],
   "source": [
    "from sklearn.ensemble import RandomForestClassifier\n",
    "\n",
    "random_forest = RandomForestClassifier(n_estimators = 100, random_state = 50, verbose = 1, n_jobs = -1)"
   ]
  },
  {
   "cell_type": "code",
   "execution_count": 42,
   "metadata": {
    "_cell_guid": "020f0856-8f24-4b22-bca5-aac7f137f032",
    "_uuid": "52258a9b89b3069bc1d82829107e8e7c1ef05fd6"
   },
   "outputs": [
    {
     "name": "stderr",
     "output_type": "stream",
     "text": [
      "[Parallel(n_jobs=-1)]: Using backend ThreadingBackend with 8 concurrent workers.\n",
      "[Parallel(n_jobs=-1)]: Done  34 tasks      | elapsed:   33.2s\n",
      "[Parallel(n_jobs=-1)]: Done 100 out of 100 | elapsed:  1.4min finished\n",
      "[Parallel(n_jobs=8)]: Using backend ThreadingBackend with 8 concurrent workers.\n",
      "[Parallel(n_jobs=8)]: Done  34 tasks      | elapsed:    0.3s\n",
      "[Parallel(n_jobs=8)]: Done 100 out of 100 | elapsed:    1.0s finished\n"
     ]
    }
   ],
   "source": [
    "random_forest.fit(train, train_labels)\n",
    "\n",
    "feature_importance_values = random_forest.feature_importances_\n",
    "feature_importances = pd.DataFrame({'feature': features, 'importance': feature_importance_values})\n",
    "\n",
    "predictions = random_forest.predict_proba(test)[:, 1]"
   ]
  },
  {
   "cell_type": "code",
   "execution_count": 43,
   "metadata": {
    "_cell_guid": "25145966-669e-426d-89a3-98e30b861057",
    "_uuid": "1da4b02502388d2b8a2bc5376027c5bef50272f3"
   },
   "outputs": [],
   "source": [
    "submit = app_test[['SK_ID_CURR']]\n",
    "submit['TARGET'] = predictions\n",
    "\n",
    "submit.to_csv('random_forest_baseline.csv', index = False)"
   ]
  },
  {
   "cell_type": "markdown",
   "metadata": {
    "_uuid": "cf6f600ed10c511dd26d4bd5efa7997ab8d6916a"
   },
   "source": [
    "**Random Forest 的成績為 0.678。**"
   ]
  },
  {
   "cell_type": "markdown",
   "metadata": {},
   "source": [
    "### Gradient Boosting Machine\n",
    "Kaggle 競賽中經常見到 [Gradient Boosting Machine](https://machinelearningmastery.com/gentle-introduction-gradient-boosting-algorithm-machine-learning/)，其中 [LightGBM library](http://lightgbm.readthedocs.io/en/latest/Quick-Start.html) 是大家常用的 python 套件之一。我們使用 5-fold 的 Cross validation，然後類別資料一律用 One-hot Encoding 編碼。"
   ]
  },
  {
   "cell_type": "code",
   "execution_count": 23,
   "metadata": {
    "_cell_guid": "60208a3f-947f-42d9-8f46-2159afd2eb7d",
    "_uuid": "2719663ed461422fce26b5dd55a31ab9718df47a"
   },
   "outputs": [],
   "source": [
    "from sklearn.model_selection import KFold\n",
    "from sklearn.metrics import roc_auc_score\n",
    "import lightgbm as lgb\n",
    "import gc\n",
    "\n",
    "def model(features, test_features, encoding = 'ohe', n_folds = 5):\n",
    "    train_ids = features['SK_ID_CURR']\n",
    "    test_ids = test_features['SK_ID_CURR']\n",
    "    \n",
    "    labels = features['TARGET']\n",
    "    \n",
    "    features = features.drop(columns = ['SK_ID_CURR', 'TARGET'])\n",
    "    test_features = test_features.drop(columns = ['SK_ID_CURR'])\n",
    "    \n",
    "    if encoding == 'ohe':\n",
    "        features = pd.get_dummies(features)\n",
    "        test_features = pd.get_dummies(test_features)\n",
    "        \n",
    "        features, test_features = features.align(test_features, join = 'inner', axis = 1)\n",
    "        \n",
    "        cat_indices = 'auto'\n",
    "    \n",
    "    elif encoding == 'le':\n",
    "        label_encoder = LabelEncoder()\n",
    "        \n",
    "        cat_indices = []\n",
    "        for i, col in enumerate(features):\n",
    "            if features[col].dtype == 'object':\n",
    "                features[col] = label_encoder.fit_transform(np.array(features[col].astype(str)).reshape((-1,)))\n",
    "                test_features[col] = label_encoder.transform(np.array(test_features[col].astype(str)).reshape((-1,)))\n",
    "\n",
    "                cat_indices.append(i)\n",
    "    \n",
    "    else:\n",
    "        raise ValueError(\"Encoding must be either 'ohe' or 'le'\")\n",
    "        \n",
    "    print('Training Data Shape: ', features.shape)\n",
    "    print('Testing Data Shape: ', test_features.shape)\n",
    "    \n",
    "    feature_names = list(features.columns)\n",
    "    features = np.array(features)\n",
    "    test_features = np.array(test_features)\n",
    "    \n",
    "    k_fold = KFold(n_splits = n_folds, shuffle = True, random_state = 50)\n",
    "    feature_importance_values = np.zeros(len(feature_names))\n",
    "    test_predictions = np.zeros(test_features.shape[0])\n",
    "    out_of_fold = np.zeros(features.shape[0])\n",
    "    \n",
    "    valid_scores = []\n",
    "    train_scores = []\n",
    "    \n",
    "    for train_indices, valid_indices in k_fold.split(features):\n",
    "        train_features, train_labels = features[train_indices], labels[train_indices]\n",
    "        valid_features, valid_labels = features[valid_indices], labels[valid_indices]\n",
    "      \n",
    "        model = lgb.LGBMClassifier(n_estimators=10000, objective = 'binary', \n",
    "                                   class_weight = 'balanced', learning_rate = 0.05, \n",
    "                                   reg_alpha = 0.1, reg_lambda = 0.1, \n",
    "                                   subsample = 0.8, n_jobs = -1, random_state = 50)\n",
    "        \n",
    "        model.fit(train_features, train_labels, eval_metric = 'auc',\n",
    "                  eval_set = [(valid_features, valid_labels), (train_features, train_labels)],\n",
    "                  eval_names = ['valid', 'train'], categorical_feature = cat_indices,\n",
    "                  early_stopping_rounds = 100, verbose = 200)\n",
    "\n",
    "        best_iteration = model.best_iteration_\n",
    "        feature_importance_values += model.feature_importances_ / k_fold.n_splits\n",
    "        \n",
    "        test_predictions += model.predict_proba(test_features, num_iteration = best_iteration)[:, 1] / k_fold.n_splits\n",
    "        \n",
    "        out_of_fold[valid_indices] = model.predict_proba(valid_features, num_iteration = best_iteration)[:, 1]\n",
    "        \n",
    "        valid_score = model.best_score_['valid']['auc']\n",
    "        train_score = model.best_score_['train']['auc']\n",
    "        \n",
    "        valid_scores.append(valid_score)\n",
    "        train_scores.append(train_score)\n",
    "        \n",
    "        gc.enable()\n",
    "        del model, train_features, valid_features\n",
    "        gc.collect()\n",
    "        \n",
    "    submission = pd.DataFrame({'SK_ID_CURR': test_ids, 'TARGET': test_predictions})\n",
    "    \n",
    "    feature_importances = pd.DataFrame({'feature': feature_names, 'importance': feature_importance_values})\n",
    "    \n",
    "    valid_auc = roc_auc_score(labels, out_of_fold)\n",
    "    \n",
    "    valid_scores.append(valid_auc)\n",
    "    train_scores.append(np.mean(train_scores))\n",
    "    \n",
    "    fold_names = list(range(n_folds))\n",
    "    fold_names.append('overall')\n",
    "    \n",
    "    metrics = pd.DataFrame({'fold': fold_names,\n",
    "                            'train': train_scores,\n",
    "                            'valid': valid_scores}) \n",
    "    \n",
    "    return submission, feature_importances, metrics"
   ]
  },
  {
   "cell_type": "code",
   "execution_count": 24,
   "metadata": {
    "_uuid": "89e02dcbb23e47e3504ed1f61431b182e2011ba5",
    "scrolled": false
   },
   "outputs": [
    {
     "name": "stdout",
     "output_type": "stream",
     "text": [
      "Training Data Shape:  (307511, 239)\n",
      "Testing Data Shape:  (48744, 239)\n",
      "Training until validation scores don't improve for 100 rounds\n",
      "[200]\ttrain's auc: 0.798776\ttrain's binary_logloss: 0.547732\tvalid's auc: 0.755302\tvalid's binary_logloss: 0.563582\n",
      "[400]\ttrain's auc: 0.828115\ttrain's binary_logloss: 0.518495\tvalid's auc: 0.755183\tvalid's binary_logloss: 0.54559\n",
      "Early stopping, best iteration is:\n",
      "[330]\ttrain's auc: 0.818572\ttrain's binary_logloss: 0.528099\tvalid's auc: 0.755926\tvalid's binary_logloss: 0.551342\n",
      "Training until validation scores don't improve for 100 rounds\n",
      "[200]\ttrain's auc: 0.798672\ttrain's binary_logloss: 0.547978\tvalid's auc: 0.758343\tvalid's binary_logloss: 0.563567\n",
      "Early stopping, best iteration is:\n",
      "[289]\ttrain's auc: 0.812801\ttrain's binary_logloss: 0.533928\tvalid's auc: 0.758486\tvalid's binary_logloss: 0.555107\n",
      "Training until validation scores don't improve for 100 rounds\n",
      "[200]\ttrain's auc: 0.797711\ttrain's binary_logloss: 0.549295\tvalid's auc: 0.763014\tvalid's binary_logloss: 0.564079\n",
      "Early stopping, best iteration is:\n",
      "[271]\ttrain's auc: 0.809099\ttrain's binary_logloss: 0.538261\tvalid's auc: 0.763203\tvalid's binary_logloss: 0.557235\n",
      "Training until validation scores don't improve for 100 rounds\n",
      "[200]\ttrain's auc: 0.798878\ttrain's binary_logloss: 0.547809\tvalid's auc: 0.75847\tvalid's binary_logloss: 0.561954\n",
      "Early stopping, best iteration is:\n",
      "[239]\ttrain's auc: 0.80545\ttrain's binary_logloss: 0.541289\tvalid's auc: 0.758583\tvalid's binary_logloss: 0.55807\n",
      "Training until validation scores don't improve for 100 rounds\n",
      "[200]\ttrain's auc: 0.798121\ttrain's binary_logloss: 0.548395\tvalid's auc: 0.757646\tvalid's binary_logloss: 0.564548\n",
      "Early stopping, best iteration is:\n",
      "[267]\ttrain's auc: 0.809058\ttrain's binary_logloss: 0.537778\tvalid's auc: 0.75805\tvalid's binary_logloss: 0.557919\n",
      "Baseline metrics\n",
      "      fold     train     valid\n",
      "0        0  0.818572  0.755926\n",
      "1        1  0.812801  0.758486\n",
      "2        2  0.809099  0.763203\n",
      "3        3  0.805450  0.758583\n",
      "4        4  0.809058  0.758050\n",
      "5  overall  0.810996  0.758842\n"
     ]
    }
   ],
   "source": [
    "submission, fi, metrics = model(app_train, app_test)\n",
    "print('Baseline metrics')\n",
    "print(metrics)"
   ]
  },
  {
   "cell_type": "code",
   "execution_count": 27,
   "metadata": {
    "_cell_guid": "a90e9368-5f7d-4179-a5cc-1025f32c6a81",
    "_uuid": "b912337a5f35f495398d8ae8b8576ceb7062fe50"
   },
   "outputs": [],
   "source": [
    "def plot_feature_importances(df):\n",
    "    df = df.sort_values('importance', ascending = False).reset_index()\n",
    "    \n",
    "    df['importance_normalized'] = df['importance'] / df['importance'].sum()\n",
    "\n",
    "    plt.figure(figsize = (10, 6))\n",
    "    ax = plt.subplot()\n",
    "    \n",
    "    ax.barh(list(reversed(list(df.index[:15]))), \n",
    "            df['importance_normalized'].head(15), \n",
    "            align = 'center', edgecolor = 'k')\n",
    "    \n",
    "    ax.set_yticks(list(reversed(list(df.index[:15]))))\n",
    "    ax.set_yticklabels(df['feature'].head(15))\n",
    "    \n",
    "    plt.xlabel('Normalized Importance'); plt.title('Feature Importances')\n",
    "    plt.show()\n",
    "    \n",
    "    return df"
   ]
  },
  {
   "cell_type": "code",
   "execution_count": 28,
   "metadata": {
    "_uuid": "ca59467edd1060e5f7587a77a31dcd7331ce90ec",
    "scrolled": false
   },
   "outputs": [
    {
     "data": {
      "image/png": "[encoded data removed]",
      "text/plain": [
       "<Figure size 720x432 with 1 Axes>"
      ]
     },
     "metadata": {
      "needs_background": "light"
     },
     "output_type": "display_data"
    }
   ],
   "source": [
    "fi_sorted = plot_feature_importances(fi)"
   ]
  },
  {
   "cell_type": "code",
   "execution_count": 29,
   "metadata": {
    "_uuid": "d71f9d7b9b322824704eec9dc82e38a480d4f76c"
   },
   "outputs": [],
   "source": [
    "submission.to_csv('baseline_lgb.csv', index = False)"
   ]
  },
  {
   "cell_type": "markdown",
   "metadata": {
    "_uuid": "2aca0b9ea31dfef1ca3221dc6424fe31e829cbbf"
   },
   "source": [
    "**Gradient Boosting Machine 的成績為 0.735。**"
   ]
  },
  {
   "cell_type": "markdown",
   "metadata": {
    "_uuid": "9b27fad1522263c32b57a8127c84ad0e08ff9d8f"
   },
   "source": [
    "## 進階特徵工程\n",
    "\n",
    "根據基本財務方面的Domain Knowledge判斷，我們可以從現有的feature中計算或者提取出新的feature。\n",
    "\n",
    "### 更新 one-hot-encoding 函式"
   ]
  },
  {
   "cell_type": "code",
   "execution_count": 1,
   "metadata": {},
   "outputs": [],
   "source": [
    "import numpy as np\n",
    "import pandas as pd\n",
    "import gc\n",
    "import time\n",
    "from lightgbm import LGBMClassifier\n",
    "from sklearn.metrics import roc_auc_score, roc_curve\n",
    "from sklearn.model_selection import KFold, StratifiedKFold\n",
    "import matplotlib.pyplot as plt\n",
    "import seaborn as sns\n",
    "import warnings\n",
    "warnings.simplefilter(action='ignore')\n",
    "\n",
    "DEBUG_MODE = False\n",
    "NUM_ROWS = 10000 if DEBUG_MODE else None\n",
    "\n",
    "# One-hot encoding for categorical columns with get_dummies\n",
    "def one_hot_encoder(df, nan_as_category = True):\n",
    "    original_columns = list(df.columns)\n",
    "    categorical_columns = [col for col in df.columns if df[col].dtype == 'object']\n",
    "    df = pd.get_dummies(df, columns= categorical_columns, dummy_na= nan_as_category)\n",
    "    new_columns = [c for c in df.columns if c not in original_columns]\n",
    "    return df, new_columns"
   ]
  },
  {
   "cell_type": "markdown",
   "metadata": {},
   "source": [
    "### 新增 application 相關資訊\n",
    "\n",
    "#### 資料清理：\n",
    "* 將`CODE_GENDER == \"XNA\"`作為異常值刪除\n",
    "* 二類別資料(如`'CODE_GENDER`、`FLAG_OWN_CAR`和`FLAG_OWN_REALTY`)就用0/1表示，其他類別資料則用One-Hot Encoding\n",
    "* 大於300000的天數資料改為NaN\n",
    "\n",
    "#### 特徵工程：\n",
    "* `INCOME_CREDIT_PERCENT`: 收入與信用額度(可貸款額度)的比例\n",
    "* `ANNUITY_INCOME_PERCENT`: 年金與收入的比例\n",
    "* `CREDIT_TERM`:  以月為單位的付款期限\n",
    "* `DAYS_EMPLOYED_PERCENT`: 在職時間長度與歲數的比例\n",
    "* `INCOME_PER_PERSON`: 家庭成員平均所得\n",
    "* `PAYMENT_RATE`: 年金與信用額度的比值"
   ]
  },
  {
   "cell_type": "code",
   "execution_count": 3,
   "metadata": {},
   "outputs": [
    {
     "name": "stdout",
     "output_type": "stream",
     "text": [
      "Process application train/test...DONE! (df shape:  (356251, 248) )\n"
     ]
    }
   ],
   "source": [
    "def application_train_test(num_rows = None, nan_as_category = False):\n",
    "    # Read data and merge\n",
    "    df = pd.read_csv('input/application_train.csv', nrows= num_rows)\n",
    "    test_df = pd.read_csv('input/application_test.csv', nrows= num_rows)\n",
    "    df = df.append(test_df).reset_index()\n",
    "    \n",
    "    df = df[df['CODE_GENDER'] != 'XNA']\n",
    "    \n",
    "    for bin_feature in ['CODE_GENDER', 'FLAG_OWN_CAR', 'FLAG_OWN_REALTY']:\n",
    "        df[bin_feature], uniques = pd.factorize(df[bin_feature])\n",
    "    df, cat_cols = one_hot_encoder(df, nan_as_category)\n",
    "    \n",
    "    df['DAYS_EMPLOYED'].replace(365243, np.nan, inplace= True)\n",
    "    \n",
    "    df['DAYS_EMPLOYED_PERC'] = df['DAYS_EMPLOYED'] / df['DAYS_BIRTH']\n",
    "    df['INCOME_CREDIT_PERC'] = df['AMT_INCOME_TOTAL'] / df['AMT_CREDIT']\n",
    "    df['INCOME_PER_PERSON'] = df['AMT_INCOME_TOTAL'] / df['CNT_FAM_MEMBERS']\n",
    "    df['ANNUITY_INCOME_PERC'] = df['AMT_ANNUITY'] / df['AMT_INCOME_TOTAL']\n",
    "    df['PAYMENT_RATE'] = df['AMT_ANNUITY'] / df['AMT_CREDIT']\n",
    "    del test_df\n",
    "    gc.collect()\n",
    "    return df\n",
    "\n",
    "print(\"Process application train/test...\", end=\"\")\n",
    "df = application_train_test(NUM_ROWS)\n",
    "print(\"DONE! (df shape: \",df.shape,\")\")"
   ]
  },
  {
   "cell_type": "markdown",
   "metadata": {},
   "source": [
    "### 新增 bureau 相關資訊\n",
    "\n",
    "#### 資料清理：\n",
    "* 使用`SK_ID_CURR`將資料集合併\n",
    "\n",
    "#### 特徵工程\n",
    "* 因為同個`SK_ID_CURR`對應到很多筆資料，所以我們使用Aggregation方法：\n",
    "    * 對於數值資料，我們取他們的`min`、`max`、`sum`、`mean`、`var`和`size`\n",
    "    * 對於類別資料，我們僅取`mean`(對已經encode後的結果)\n",
    "* 我們將所有特徵分為`CREDIT_ACTIVE == 1`和`CREDIT_ACTIVE == 0`兩種，再進行Aggregation"
   ]
  },
  {
   "cell_type": "code",
   "execution_count": 4,
   "metadata": {},
   "outputs": [
    {
     "name": "stdout",
     "output_type": "stream",
     "text": [
      "Process bureau and bureau_balance...DONE! (Bureau df shape: (305811, 116) )\n"
     ]
    },
    {
     "data": {
      "text/plain": [
       "0"
      ]
     },
     "execution_count": 4,
     "metadata": {},
     "output_type": "execute_result"
    }
   ],
   "source": [
    "def bureau_and_balance(num_rows = None, nan_as_category = True):\n",
    "    bureau = pd.read_csv('input/bureau.csv', nrows = num_rows)\n",
    "    bb = pd.read_csv('input/bureau_balance.csv', nrows = num_rows)\n",
    "    bb, bb_cat = one_hot_encoder(bb, nan_as_category)\n",
    "    bureau, bureau_cat = one_hot_encoder(bureau, nan_as_category)\n",
    "    \n",
    "    bb_aggregations = {'MONTHS_BALANCE': ['min', 'max', 'size']}\n",
    "    for col in bb_cat:\n",
    "        bb_aggregations[col] = ['mean']\n",
    "    bb_agg = bb.groupby('SK_ID_BUREAU').agg(bb_aggregations)\n",
    "    bb_agg.columns = pd.Index([e[0] + \"_\" + e[1].upper() for e in bb_agg.columns.tolist()])\n",
    "    bureau = bureau.join(bb_agg, how='left', on='SK_ID_BUREAU')\n",
    "    bureau.drop(['SK_ID_BUREAU'], axis=1, inplace= True)\n",
    "    del bb, bb_agg\n",
    "    gc.collect()\n",
    "\n",
    "    num_aggregations = {\n",
    "        'DAYS_CREDIT': ['min', 'max', 'mean', 'var'],\n",
    "        'DAYS_CREDIT_ENDDATE': ['min', 'max', 'mean'],\n",
    "        'DAYS_CREDIT_UPDATE': ['mean'],\n",
    "        'CREDIT_DAY_OVERDUE': ['max', 'mean'],\n",
    "        'AMT_CREDIT_MAX_OVERDUE': ['mean'],\n",
    "        'AMT_CREDIT_SUM': ['max', 'mean', 'sum'],\n",
    "        'AMT_CREDIT_SUM_DEBT': ['max', 'mean', 'sum'],\n",
    "        'AMT_CREDIT_SUM_OVERDUE': ['mean'],\n",
    "        'AMT_CREDIT_SUM_LIMIT': ['mean', 'sum'],\n",
    "        'AMT_ANNUITY': ['max', 'mean'],\n",
    "        'CNT_CREDIT_PROLONG': ['sum'],\n",
    "        'MONTHS_BALANCE_MIN': ['min'],\n",
    "        'MONTHS_BALANCE_MAX': ['max'],\n",
    "        'MONTHS_BALANCE_SIZE': ['mean', 'sum']\n",
    "    }\n",
    "\n",
    "    cat_aggregations = {}\n",
    "    for cat in bureau_cat: cat_aggregations[cat] = ['mean']\n",
    "    for cat in bb_cat: cat_aggregations[cat + \"_MEAN\"] = ['mean']\n",
    "    \n",
    "    bureau_agg = bureau.groupby('SK_ID_CURR').agg({**num_aggregations, **cat_aggregations})\n",
    "    bureau_agg.columns = pd.Index(['BURO_' + e[0] + \"_\" + e[1].upper() for e in bureau_agg.columns.tolist()])\n",
    "\n",
    "    active = bureau[bureau['CREDIT_ACTIVE_Active'] == 1]\n",
    "    active_agg = active.groupby('SK_ID_CURR').agg(num_aggregations)\n",
    "    active_agg.columns = pd.Index(['ACTIVE_' + e[0] + \"_\" + e[1].upper() for e in active_agg.columns.tolist()])\n",
    "    bureau_agg = bureau_agg.join(active_agg, how='left', on='SK_ID_CURR')\n",
    "    del active, active_agg\n",
    "    gc.collect()\n",
    "\n",
    "    closed = bureau[bureau['CREDIT_ACTIVE_Closed'] == 1]\n",
    "    closed_agg = closed.groupby('SK_ID_CURR').agg(num_aggregations)\n",
    "    closed_agg.columns = pd.Index(['CLOSED_' + e[0] + \"_\" + e[1].upper() for e in closed_agg.columns.tolist()])\n",
    "    bureau_agg = bureau_agg.join(closed_agg, how='left', on='SK_ID_CURR')\n",
    "    del closed, closed_agg, bureau\n",
    "    gc.collect()\n",
    "    return bureau_agg\n",
    "\n",
    "print(\"Process bureau and bureau_balance...\", end=\"\")\n",
    "bureau = bureau_and_balance(NUM_ROWS)\n",
    "df = df.join(bureau, how='left', on='SK_ID_CURR')\n",
    "print(\"DONE! (Bureau df shape:\", bureau.shape,\")\")\n",
    "del bureau\n",
    "gc.collect()"
   ]
  },
  {
   "cell_type": "markdown",
   "metadata": {},
   "source": [
    "### 新增 previous application 相關資訊\n",
    "\n",
    "#### 資料清理：\n",
    "* 使用`SK_ID_CURR`將資料集合併\n",
    "* 大於300000的天數資料改為NaN\n",
    "\n",
    "#### 特徵工程\n",
    "* `APP_CREDIT_PERC`: 借貸申請成功比例\n",
    "* 分別對數值和類別資料使用Aggregation方法\n",
    "* 分成`NAME_CONTRACT_STATUS_Approved == 1`和`NAME_CONTRACT_STATUS_Refused == 1`兩類\n"
   ]
  },
  {
   "cell_type": "code",
   "execution_count": 5,
   "metadata": {},
   "outputs": [
    {
     "name": "stdout",
     "output_type": "stream",
     "text": [
      "Process previous_applications...DONE! (Previous applications df shape: (338857, 249) )\n"
     ]
    },
    {
     "data": {
      "text/plain": [
       "0"
      ]
     },
     "execution_count": 5,
     "metadata": {},
     "output_type": "execute_result"
    }
   ],
   "source": [
    "def previous_applications(num_rows = None, nan_as_category = True):\n",
    "    prev = pd.read_csv('input/previous_application.csv', nrows = num_rows)\n",
    "    prev, cat_cols = one_hot_encoder(prev, nan_as_category= True)\n",
    "\n",
    "    prev['DAYS_FIRST_DRAWING'].replace(365243, np.nan, inplace= True)\n",
    "    prev['DAYS_FIRST_DUE'].replace(365243, np.nan, inplace= True)\n",
    "    prev['DAYS_LAST_DUE_1ST_VERSION'].replace(365243, np.nan, inplace= True)\n",
    "    prev['DAYS_LAST_DUE'].replace(365243, np.nan, inplace= True)\n",
    "    prev['DAYS_TERMINATION'].replace(365243, np.nan, inplace= True)\n",
    "    \n",
    "    prev['APP_CREDIT_PERC'] = prev['AMT_APPLICATION'] / prev['AMT_CREDIT']\n",
    "\n",
    "    num_aggregations = {\n",
    "        'AMT_ANNUITY': ['min', 'max', 'mean'],\n",
    "        'AMT_APPLICATION': ['min', 'max', 'mean'],\n",
    "        'AMT_CREDIT': ['min', 'max', 'mean'],\n",
    "        'APP_CREDIT_PERC': ['min', 'max', 'mean', 'var'],\n",
    "        'AMT_DOWN_PAYMENT': ['min', 'max', 'mean'],\n",
    "        'AMT_GOODS_PRICE': ['min', 'max', 'mean'],\n",
    "        'HOUR_APPR_PROCESS_START': ['min', 'max', 'mean'],\n",
    "        'RATE_DOWN_PAYMENT': ['min', 'max', 'mean'],\n",
    "        'DAYS_DECISION': ['min', 'max', 'mean'],\n",
    "        'CNT_PAYMENT': ['mean', 'sum'],\n",
    "    }\n",
    "    cat_aggregations = {}\n",
    "    for cat in cat_cols:\n",
    "        cat_aggregations[cat] = ['mean']\n",
    "    \n",
    "    prev_agg = prev.groupby('SK_ID_CURR').agg({**num_aggregations, **cat_aggregations})\n",
    "    prev_agg.columns = pd.Index(['PREV_' + e[0] + \"_\" + e[1].upper() for e in prev_agg.columns.tolist()])\n",
    "\n",
    "    approved = prev[prev['NAME_CONTRACT_STATUS_Approved'] == 1]\n",
    "    approved_agg = approved.groupby('SK_ID_CURR').agg(num_aggregations)\n",
    "    approved_agg.columns = pd.Index(['APPROVED_' + e[0] + \"_\" + e[1].upper() for e in approved_agg.columns.tolist()])\n",
    "    prev_agg = prev_agg.join(approved_agg, how='left', on='SK_ID_CURR')\n",
    "\n",
    "    refused = prev[prev['NAME_CONTRACT_STATUS_Refused'] == 1]\n",
    "    refused_agg = refused.groupby('SK_ID_CURR').agg(num_aggregations)\n",
    "    refused_agg.columns = pd.Index(['REFUSED_' + e[0] + \"_\" + e[1].upper() for e in refused_agg.columns.tolist()])\n",
    "    prev_agg = prev_agg.join(refused_agg, how='left', on='SK_ID_CURR')\n",
    "    del refused, refused_agg, approved, approved_agg, prev\n",
    "    gc.collect()\n",
    "    return prev_agg\n",
    "\n",
    "print(\"Process previous_applications...\", end=\"\")\n",
    "prev = previous_applications(NUM_ROWS)\n",
    "df = df.join(prev, how='left', on='SK_ID_CURR')\n",
    "print(\"DONE! (Previous applications df shape:\", prev.shape, \")\")\n",
    "del prev\n",
    "gc.collect()"
   ]
  },
  {
   "cell_type": "markdown",
   "metadata": {},
   "source": [
    "### 新增 POS-Cash Balance 相關資訊\n",
    "\n",
    "#### 資料清理：\n",
    "* 使用`SK_ID_CURR`將資料集合併\n",
    "\n",
    "#### 特徵工程\n",
    "* `POS_COUNT`: 計算交易總次數\n",
    "* 分別對數值和類別資料使用Aggregation方法\n",
    "* 數值方面僅對`MONTHS_BALANCE`、`SK_DPD`和`SK_DPD_DEF`進行Aggregation"
   ]
  },
  {
   "cell_type": "code",
   "execution_count": 6,
   "metadata": {},
   "outputs": [
    {
     "name": "stdout",
     "output_type": "stream",
     "text": [
      "Process POS-CASH balance...DONE! (Pos-cash balance df shape: (337252, 18) )\n"
     ]
    },
    {
     "data": {
      "text/plain": [
       "0"
      ]
     },
     "execution_count": 6,
     "metadata": {},
     "output_type": "execute_result"
    }
   ],
   "source": [
    "def pos_cash(num_rows = None, nan_as_category = True):\n",
    "    pos = pd.read_csv('input/POS_CASH_balance.csv', nrows = num_rows)\n",
    "    pos, cat_cols = one_hot_encoder(pos, nan_as_category= True)\n",
    "\n",
    "    aggregations = {\n",
    "        'MONTHS_BALANCE': ['max', 'mean', 'size'],\n",
    "        'SK_DPD': ['max', 'mean'],\n",
    "        'SK_DPD_DEF': ['max', 'mean']\n",
    "    }\n",
    "    for cat in cat_cols:\n",
    "        aggregations[cat] = ['mean']\n",
    "    \n",
    "    pos_agg = pos.groupby('SK_ID_CURR').agg(aggregations)\n",
    "    pos_agg.columns = pd.Index(['POS_' + e[0] + \"_\" + e[1].upper() for e in pos_agg.columns.tolist()])\n",
    "\n",
    "    pos_agg['POS_COUNT'] = pos.groupby('SK_ID_CURR').size()\n",
    "    del pos\n",
    "    gc.collect()\n",
    "    return pos_agg\n",
    "\n",
    "print(\"Process POS-CASH balance...\", end=\"\")\n",
    "pos = pos_cash(NUM_ROWS)\n",
    "df = df.join(pos, how='left', on='SK_ID_CURR')\n",
    "print(\"DONE! (Pos-cash balance df shape:\", pos.shape,\")\")\n",
    "del pos\n",
    "gc.collect()"
   ]
  },
  {
   "cell_type": "markdown",
   "metadata": {},
   "source": [
    "### 新增 installments 相關資訊\n",
    "\n",
    "#### 資料清理：\n",
    "* 使用`SK_ID_CURR`將資料集合併\n",
    "\n",
    "#### 特徵工程\n",
    "* `PAYMENT_PERC`: 分期付款償還比例\n",
    "* `PAYMENT_DIFF`: 分期付款剩餘欠額\n",
    "* `DPD`: 遲繳天數(大於等於0)\n",
    "* `DBD`: 提前繳款天數(大於等於0)\n",
    "* `INSTAL_COUNT`: 總分期付款次數\n",
    "* 分別對數值和類別資料使用Aggregation方法"
   ]
  },
  {
   "cell_type": "code",
   "execution_count": 7,
   "metadata": {},
   "outputs": [
    {
     "name": "stdout",
     "output_type": "stream",
     "text": [
      "Process installments payments...DONE! (Installments payments df shape: (339587, 26) )\n"
     ]
    },
    {
     "data": {
      "text/plain": [
       "0"
      ]
     },
     "execution_count": 7,
     "metadata": {},
     "output_type": "execute_result"
    }
   ],
   "source": [
    "def installments_payments(num_rows = None, nan_as_category = True):\n",
    "    ins = pd.read_csv('input/installments_payments.csv', nrows = num_rows)\n",
    "    ins, cat_cols = one_hot_encoder(ins, nan_as_category= True)\n",
    "\n",
    "    ins['PAYMENT_PERC'] = ins['AMT_PAYMENT'] / ins['AMT_INSTALMENT']\n",
    "    ins['PAYMENT_DIFF'] = ins['AMT_INSTALMENT'] - ins['AMT_PAYMENT']\n",
    "\n",
    "    ins['DPD'] = ins['DAYS_ENTRY_PAYMENT'] - ins['DAYS_INSTALMENT']\n",
    "    ins['DBD'] = ins['DAYS_INSTALMENT'] - ins['DAYS_ENTRY_PAYMENT']\n",
    "    ins['DPD'] = ins['DPD'].apply(lambda x: x if x > 0 else 0)\n",
    "    ins['DBD'] = ins['DBD'].apply(lambda x: x if x > 0 else 0)\n",
    "\n",
    "    aggregations = {\n",
    "        'NUM_INSTALMENT_VERSION': ['nunique'],\n",
    "        'DPD': ['max', 'mean', 'sum'],\n",
    "        'DBD': ['max', 'mean', 'sum'],\n",
    "        'PAYMENT_PERC': ['max', 'mean', 'sum', 'var'],\n",
    "        'PAYMENT_DIFF': ['max', 'mean', 'sum', 'var'],\n",
    "        'AMT_INSTALMENT': ['max', 'mean', 'sum'],\n",
    "        'AMT_PAYMENT': ['min', 'max', 'mean', 'sum'],\n",
    "        'DAYS_ENTRY_PAYMENT': ['max', 'mean', 'sum']\n",
    "    }\n",
    "    for cat in cat_cols:\n",
    "        aggregations[cat] = ['mean']\n",
    "    ins_agg = ins.groupby('SK_ID_CURR').agg(aggregations)\n",
    "    ins_agg.columns = pd.Index(['INSTAL_' + e[0] + \"_\" + e[1].upper() for e in ins_agg.columns.tolist()])\n",
    "\n",
    "    ins_agg['INSTAL_COUNT'] = ins.groupby('SK_ID_CURR').size()\n",
    "    del ins\n",
    "    gc.collect()\n",
    "    return ins_agg\n",
    "\n",
    "print(\"Process installments payments...\",end=\"\")\n",
    "ins = installments_payments(NUM_ROWS)\n",
    "df = df.join(ins, how='left', on='SK_ID_CURR')\n",
    "print(\"DONE! (Installments payments df shape:\", ins.shape,\")\")\n",
    "del ins\n",
    "gc.collect()"
   ]
  },
  {
   "cell_type": "markdown",
   "metadata": {},
   "source": [
    "### 新增 Credit Card 相關資訊\n",
    "\n",
    "#### 資料清理：\n",
    "* 使用`SK_ID_CURR`將資料集合併\n",
    "* 捨棄`SK_ID_PREV`\n",
    "\n",
    "#### 特徵工程\n",
    "* `CC_COUNT`: 信用卡交易次數\n",
    "* 因為全都是數值資料，所以直接做Aggregation方法"
   ]
  },
  {
   "cell_type": "code",
   "execution_count": 8,
   "metadata": {},
   "outputs": [
    {
     "name": "stdout",
     "output_type": "stream",
     "text": [
      "Process credit card balance...DONE! (Credit card balance df shape: (103558, 141) )\n"
     ]
    },
    {
     "data": {
      "text/plain": [
       "0"
      ]
     },
     "execution_count": 8,
     "metadata": {},
     "output_type": "execute_result"
    }
   ],
   "source": [
    "def credit_card_balance(num_rows = None, nan_as_category = True):\n",
    "    cc = pd.read_csv('input/credit_card_balance.csv', nrows = num_rows)\n",
    "    cc, cat_cols = one_hot_encoder(cc, nan_as_category= True)\n",
    "\n",
    "    cc.drop(['SK_ID_PREV'], axis= 1, inplace = True)\n",
    "    cc_agg = cc.groupby('SK_ID_CURR').agg(['min', 'max', 'mean', 'sum', 'var'])\n",
    "    cc_agg.columns = pd.Index(['CC_' + e[0] + \"_\" + e[1].upper() for e in cc_agg.columns.tolist()])\n",
    "\n",
    "    cc_agg['CC_COUNT'] = cc.groupby('SK_ID_CURR').size()\n",
    "    del cc\n",
    "    gc.collect()\n",
    "    return cc_agg\n",
    "\n",
    "print(\"Process credit card balance...\", end=\"\")\n",
    "cc = credit_card_balance(NUM_ROWS)\n",
    "df = df.join(cc, how='left', on='SK_ID_CURR')\n",
    "print(\"DONE! (Credit card balance df shape:\", cc.shape,\")\")\n",
    "del cc\n",
    "gc.collect()"
   ]
  },
  {
   "cell_type": "markdown",
   "metadata": {},
   "source": [
    "...最後得到一個完整的特徵表！"
   ]
  },
  {
   "cell_type": "code",
   "execution_count": 2,
   "metadata": {
    "scrolled": false
   },
   "outputs": [
    {
     "name": "stdout",
     "output_type": "stream",
     "text": [
      "Training data (with Domain Knowledge) shape:  (356251, 797)\n"
     ]
    },
    {
     "data": {
      "text/html": [
       "<div>\n",
       "<style scoped>\n",
       "    .dataframe tbody tr th:only-of-type {\n",
       "        vertical-align: middle;\n",
       "    }\n",
       "\n",
       "    .dataframe tbody tr th {\n",
       "        vertical-align: top;\n",
       "    }\n",
       "\n",
       "    .dataframe thead th {\n",
       "        text-align: right;\n",
       "    }\n",
       "</style>\n",
       "<table border=\"1\" class=\"dataframe\">\n",
       "  <thead>\n",
       "    <tr style=\"text-align: right;\">\n",
       "      <th></th>\n",
       "      <th>AMT_ANNUITY</th>\n",
       "      <th>AMT_CREDIT</th>\n",
       "      <th>AMT_GOODS_PRICE</th>\n",
       "      <th>AMT_INCOME_TOTAL</th>\n",
       "      <th>AMT_REQ_CREDIT_BUREAU_DAY</th>\n",
       "      <th>AMT_REQ_CREDIT_BUREAU_HOUR</th>\n",
       "      <th>AMT_REQ_CREDIT_BUREAU_MON</th>\n",
       "      <th>AMT_REQ_CREDIT_BUREAU_QRT</th>\n",
       "      <th>AMT_REQ_CREDIT_BUREAU_WEEK</th>\n",
       "      <th>AMT_REQ_CREDIT_BUREAU_YEAR</th>\n",
       "      <th>...</th>\n",
       "      <th>CC_NAME_CONTRACT_STATUS_Signed_MAX</th>\n",
       "      <th>CC_NAME_CONTRACT_STATUS_Signed_MEAN</th>\n",
       "      <th>CC_NAME_CONTRACT_STATUS_Signed_SUM</th>\n",
       "      <th>CC_NAME_CONTRACT_STATUS_Signed_VAR</th>\n",
       "      <th>CC_NAME_CONTRACT_STATUS_nan_MIN</th>\n",
       "      <th>CC_NAME_CONTRACT_STATUS_nan_MAX</th>\n",
       "      <th>CC_NAME_CONTRACT_STATUS_nan_MEAN</th>\n",
       "      <th>CC_NAME_CONTRACT_STATUS_nan_SUM</th>\n",
       "      <th>CC_NAME_CONTRACT_STATUS_nan_VAR</th>\n",
       "      <th>CC_COUNT</th>\n",
       "    </tr>\n",
       "    <tr>\n",
       "      <th>index</th>\n",
       "      <th></th>\n",
       "      <th></th>\n",
       "      <th></th>\n",
       "      <th></th>\n",
       "      <th></th>\n",
       "      <th></th>\n",
       "      <th></th>\n",
       "      <th></th>\n",
       "      <th></th>\n",
       "      <th></th>\n",
       "      <th></th>\n",
       "      <th></th>\n",
       "      <th></th>\n",
       "      <th></th>\n",
       "      <th></th>\n",
       "      <th></th>\n",
       "      <th></th>\n",
       "      <th></th>\n",
       "      <th></th>\n",
       "      <th></th>\n",
       "      <th></th>\n",
       "    </tr>\n",
       "  </thead>\n",
       "  <tbody>\n",
       "    <tr>\n",
       "      <td>0</td>\n",
       "      <td>24700.5</td>\n",
       "      <td>406597.5</td>\n",
       "      <td>351000.0</td>\n",
       "      <td>202500.0</td>\n",
       "      <td>0.0</td>\n",
       "      <td>0.0</td>\n",
       "      <td>0.0</td>\n",
       "      <td>0.0</td>\n",
       "      <td>0.0</td>\n",
       "      <td>1.0</td>\n",
       "      <td>...</td>\n",
       "      <td>NaN</td>\n",
       "      <td>NaN</td>\n",
       "      <td>NaN</td>\n",
       "      <td>NaN</td>\n",
       "      <td>NaN</td>\n",
       "      <td>NaN</td>\n",
       "      <td>NaN</td>\n",
       "      <td>NaN</td>\n",
       "      <td>NaN</td>\n",
       "      <td>NaN</td>\n",
       "    </tr>\n",
       "    <tr>\n",
       "      <td>1</td>\n",
       "      <td>35698.5</td>\n",
       "      <td>1293502.5</td>\n",
       "      <td>1129500.0</td>\n",
       "      <td>270000.0</td>\n",
       "      <td>0.0</td>\n",
       "      <td>0.0</td>\n",
       "      <td>0.0</td>\n",
       "      <td>0.0</td>\n",
       "      <td>0.0</td>\n",
       "      <td>0.0</td>\n",
       "      <td>...</td>\n",
       "      <td>NaN</td>\n",
       "      <td>NaN</td>\n",
       "      <td>NaN</td>\n",
       "      <td>NaN</td>\n",
       "      <td>NaN</td>\n",
       "      <td>NaN</td>\n",
       "      <td>NaN</td>\n",
       "      <td>NaN</td>\n",
       "      <td>NaN</td>\n",
       "      <td>NaN</td>\n",
       "    </tr>\n",
       "    <tr>\n",
       "      <td>2</td>\n",
       "      <td>6750.0</td>\n",
       "      <td>135000.0</td>\n",
       "      <td>135000.0</td>\n",
       "      <td>67500.0</td>\n",
       "      <td>0.0</td>\n",
       "      <td>0.0</td>\n",
       "      <td>0.0</td>\n",
       "      <td>0.0</td>\n",
       "      <td>0.0</td>\n",
       "      <td>0.0</td>\n",
       "      <td>...</td>\n",
       "      <td>NaN</td>\n",
       "      <td>NaN</td>\n",
       "      <td>NaN</td>\n",
       "      <td>NaN</td>\n",
       "      <td>NaN</td>\n",
       "      <td>NaN</td>\n",
       "      <td>NaN</td>\n",
       "      <td>NaN</td>\n",
       "      <td>NaN</td>\n",
       "      <td>NaN</td>\n",
       "    </tr>\n",
       "    <tr>\n",
       "      <td>3</td>\n",
       "      <td>29686.5</td>\n",
       "      <td>312682.5</td>\n",
       "      <td>297000.0</td>\n",
       "      <td>135000.0</td>\n",
       "      <td>NaN</td>\n",
       "      <td>NaN</td>\n",
       "      <td>NaN</td>\n",
       "      <td>NaN</td>\n",
       "      <td>NaN</td>\n",
       "      <td>NaN</td>\n",
       "      <td>...</td>\n",
       "      <td>0.0</td>\n",
       "      <td>0.0</td>\n",
       "      <td>0.0</td>\n",
       "      <td>0.0</td>\n",
       "      <td>0.0</td>\n",
       "      <td>0.0</td>\n",
       "      <td>0.0</td>\n",
       "      <td>0.0</td>\n",
       "      <td>0.0</td>\n",
       "      <td>6.0</td>\n",
       "    </tr>\n",
       "    <tr>\n",
       "      <td>4</td>\n",
       "      <td>21865.5</td>\n",
       "      <td>513000.0</td>\n",
       "      <td>513000.0</td>\n",
       "      <td>121500.0</td>\n",
       "      <td>0.0</td>\n",
       "      <td>0.0</td>\n",
       "      <td>0.0</td>\n",
       "      <td>0.0</td>\n",
       "      <td>0.0</td>\n",
       "      <td>0.0</td>\n",
       "      <td>...</td>\n",
       "      <td>NaN</td>\n",
       "      <td>NaN</td>\n",
       "      <td>NaN</td>\n",
       "      <td>NaN</td>\n",
       "      <td>NaN</td>\n",
       "      <td>NaN</td>\n",
       "      <td>NaN</td>\n",
       "      <td>NaN</td>\n",
       "      <td>NaN</td>\n",
       "      <td>NaN</td>\n",
       "    </tr>\n",
       "  </tbody>\n",
       "</table>\n",
       "<p>5 rows × 797 columns</p>\n",
       "</div>"
      ],
      "text/plain": [
       "       AMT_ANNUITY  AMT_CREDIT  AMT_GOODS_PRICE  AMT_INCOME_TOTAL  \\\n",
       "index                                                               \n",
       "0          24700.5    406597.5         351000.0          202500.0   \n",
       "1          35698.5   1293502.5        1129500.0          270000.0   \n",
       "2           6750.0    135000.0         135000.0           67500.0   \n",
       "3          29686.5    312682.5         297000.0          135000.0   \n",
       "4          21865.5    513000.0         513000.0          121500.0   \n",
       "\n",
       "       AMT_REQ_CREDIT_BUREAU_DAY  AMT_REQ_CREDIT_BUREAU_HOUR  \\\n",
       "index                                                          \n",
       "0                            0.0                         0.0   \n",
       "1                            0.0                         0.0   \n",
       "2                            0.0                         0.0   \n",
       "3                            NaN                         NaN   \n",
       "4                            0.0                         0.0   \n",
       "\n",
       "       AMT_REQ_CREDIT_BUREAU_MON  AMT_REQ_CREDIT_BUREAU_QRT  \\\n",
       "index                                                         \n",
       "0                            0.0                        0.0   \n",
       "1                            0.0                        0.0   \n",
       "2                            0.0                        0.0   \n",
       "3                            NaN                        NaN   \n",
       "4                            0.0                        0.0   \n",
       "\n",
       "       AMT_REQ_CREDIT_BUREAU_WEEK  AMT_REQ_CREDIT_BUREAU_YEAR  ...  \\\n",
       "index                                                          ...   \n",
       "0                             0.0                         1.0  ...   \n",
       "1                             0.0                         0.0  ...   \n",
       "2                             0.0                         0.0  ...   \n",
       "3                             NaN                         NaN  ...   \n",
       "4                             0.0                         0.0  ...   \n",
       "\n",
       "       CC_NAME_CONTRACT_STATUS_Signed_MAX  \\\n",
       "index                                       \n",
       "0                                     NaN   \n",
       "1                                     NaN   \n",
       "2                                     NaN   \n",
       "3                                     0.0   \n",
       "4                                     NaN   \n",
       "\n",
       "       CC_NAME_CONTRACT_STATUS_Signed_MEAN  \\\n",
       "index                                        \n",
       "0                                      NaN   \n",
       "1                                      NaN   \n",
       "2                                      NaN   \n",
       "3                                      0.0   \n",
       "4                                      NaN   \n",
       "\n",
       "       CC_NAME_CONTRACT_STATUS_Signed_SUM  CC_NAME_CONTRACT_STATUS_Signed_VAR  \\\n",
       "index                                                                           \n",
       "0                                     NaN                                 NaN   \n",
       "1                                     NaN                                 NaN   \n",
       "2                                     NaN                                 NaN   \n",
       "3                                     0.0                                 0.0   \n",
       "4                                     NaN                                 NaN   \n",
       "\n",
       "       CC_NAME_CONTRACT_STATUS_nan_MIN  CC_NAME_CONTRACT_STATUS_nan_MAX  \\\n",
       "index                                                                     \n",
       "0                                  NaN                              NaN   \n",
       "1                                  NaN                              NaN   \n",
       "2                                  NaN                              NaN   \n",
       "3                                  0.0                              0.0   \n",
       "4                                  NaN                              NaN   \n",
       "\n",
       "       CC_NAME_CONTRACT_STATUS_nan_MEAN  CC_NAME_CONTRACT_STATUS_nan_SUM  \\\n",
       "index                                                                      \n",
       "0                                   NaN                              NaN   \n",
       "1                                   NaN                              NaN   \n",
       "2                                   NaN                              NaN   \n",
       "3                                   0.0                              0.0   \n",
       "4                                   NaN                              NaN   \n",
       "\n",
       "       CC_NAME_CONTRACT_STATUS_nan_VAR  CC_COUNT  \n",
       "index                                             \n",
       "0                                  NaN       NaN  \n",
       "1                                  NaN       NaN  \n",
       "2                                  NaN       NaN  \n",
       "3                                  0.0       6.0  \n",
       "4                                  NaN       NaN  \n",
       "\n",
       "[5 rows x 797 columns]"
      ]
     },
     "execution_count": 2,
     "metadata": {},
     "output_type": "execute_result"
    }
   ],
   "source": [
    "try:\n",
    "    print('Training data (with Domain Knowledge) shape: ', df.shape)\n",
    "except:\n",
    "    df = pd.read_csv(\"full_dataset.csv\", index_col=0)\n",
    "    print('Training data (with Domain Knowledge) shape: ', df.shape)\n",
    "    \n",
    "df.head()\n",
    "#df.to_csv('full_dataset.csv', index=False)"
   ]
  },
  {
   "cell_type": "markdown",
   "metadata": {},
   "source": [
    "### 使用 Bayesian Optimization 尋找最佳參數\n",
    "\n",
    "貝葉斯優化 (Bayesian Optimization) 是一種比 GridSearch 和 RandomSearch 還要更加快速且精準的 Hyperparameters 尋找方法。"
   ]
  },
  {
   "cell_type": "markdown",
   "metadata": {},
   "source": [
    "簡單來說，貝葉斯優化其實就是在解未知函式的情況下，根據已有的樣本預估函式最大值的一個演算法。"
   ]
  },
  {
   "cell_type": "code",
   "execution_count": 3,
   "metadata": {
    "scrolled": true
   },
   "outputs": [
    {
     "name": "stdout",
     "output_type": "stream",
     "text": [
      "|   iter    |  target   | colsam... | max_depth | min_ch... | min_da... | min_sp... | num_le... | reg_alpha | reg_la... | subsample |\n",
      "-------------------------------------------------------------------------------------------------------------------------------------\n",
      "| \u001b[0m 1       \u001b[0m | \u001b[0m 0.7689  \u001b[0m | \u001b[0m 0.5957  \u001b[0m | \u001b[0m 4.366   \u001b[0m | \u001b[0m 26.29   \u001b[0m | \u001b[0m 51.71   \u001b[0m | \u001b[0m 0.03774 \u001b[0m | \u001b[0m 99.73   \u001b[0m | \u001b[0m 0.08165 \u001b[0m | \u001b[0m 0.1544  \u001b[0m | \u001b[0m 0.8084  \u001b[0m |\n",
      "| \u001b[95m 2       \u001b[0m | \u001b[95m 0.774   \u001b[0m | \u001b[95m 0.448   \u001b[0m | \u001b[95m 5.076   \u001b[0m | \u001b[95m 35.82   \u001b[0m | \u001b[95m 31.64   \u001b[0m | \u001b[95m 0.09727 \u001b[0m | \u001b[95m 92.73   \u001b[0m | \u001b[95m 0.112   \u001b[0m | \u001b[95m 0.06273 \u001b[0m | \u001b[95m 0.9106  \u001b[0m |\n",
      "| \u001b[0m 3       \u001b[0m | \u001b[0m 0.7733  \u001b[0m | \u001b[0m 0.7397  \u001b[0m | \u001b[0m 5.343   \u001b[0m | \u001b[0m 51.21   \u001b[0m | \u001b[0m 61.93   \u001b[0m | \u001b[0m 0.0928  \u001b[0m | \u001b[0m 65.71   \u001b[0m | \u001b[0m 0.1337  \u001b[0m | \u001b[0m 0.01046 \u001b[0m | \u001b[0m 0.4616  \u001b[0m |\n",
      "| \u001b[0m 4       \u001b[0m | \u001b[0m 0.7701  \u001b[0m | \u001b[0m 0.2451  \u001b[0m | \u001b[0m 4.077   \u001b[0m | \u001b[0m 92.67   \u001b[0m | \u001b[0m 95.04   \u001b[0m | \u001b[0m 0.07141 \u001b[0m | \u001b[0m 78.62   \u001b[0m | \u001b[0m 0.09235 \u001b[0m | \u001b[0m 0.1863  \u001b[0m | \u001b[0m 0.5251  \u001b[0m |\n",
      "| \u001b[95m 5       \u001b[0m | \u001b[95m 0.7766  \u001b[0m | \u001b[95m 0.7466  \u001b[0m | \u001b[95m 6.893   \u001b[0m | \u001b[95m 60.28   \u001b[0m | \u001b[95m 37.76   \u001b[0m | \u001b[95m 0.06824 \u001b[0m | \u001b[95m 90.24   \u001b[0m | \u001b[95m 0.1593  \u001b[0m | \u001b[95m 0.08641 \u001b[0m | \u001b[95m 0.9343  \u001b[0m |\n",
      "| \u001b[95m 6       \u001b[0m | \u001b[95m 0.778   \u001b[0m | \u001b[95m 0.8255  \u001b[0m | \u001b[95m 7.347   \u001b[0m | \u001b[95m 13.36   \u001b[0m | \u001b[95m 93.3    \u001b[0m | \u001b[95m 0.03878 \u001b[0m | \u001b[95m 43.59   \u001b[0m | \u001b[95m 0.1234  \u001b[0m | \u001b[95m 0.09357 \u001b[0m | \u001b[95m 0.4043  \u001b[0m |\n",
      "| \u001b[0m 7       \u001b[0m | \u001b[0m 0.769   \u001b[0m | \u001b[0m 0.8712  \u001b[0m | \u001b[0m 4.07    \u001b[0m | \u001b[0m 23.48   \u001b[0m | \u001b[0m 72.79   \u001b[0m | \u001b[0m 0.04792 \u001b[0m | \u001b[0m 25.88   \u001b[0m | \u001b[0m 0.0278  \u001b[0m | \u001b[0m 0.02247 \u001b[0m | \u001b[0m 0.5822  \u001b[0m |\n",
      "| \u001b[95m 8       \u001b[0m | \u001b[95m 0.78    \u001b[0m | \u001b[95m 0.6322  \u001b[0m | \u001b[95m 8.739   \u001b[0m | \u001b[95m 58.8    \u001b[0m | \u001b[95m 62.13   \u001b[0m | \u001b[95m 0.09223 \u001b[0m | \u001b[95m 93.54   \u001b[0m | \u001b[95m 0.05041 \u001b[0m | \u001b[95m 0.1365  \u001b[0m | \u001b[95m 0.9714  \u001b[0m |\n",
      "| \u001b[0m 9       \u001b[0m | \u001b[0m 0.7789  \u001b[0m | \u001b[0m 0.3816  \u001b[0m | \u001b[0m 7.289   \u001b[0m | \u001b[0m 79.98   \u001b[0m | \u001b[0m 94.94   \u001b[0m | \u001b[0m 0.08537 \u001b[0m | \u001b[0m 53.72   \u001b[0m | \u001b[0m 0.001098\u001b[0m | \u001b[0m 0.006983\u001b[0m | \u001b[0m 0.2111  \u001b[0m |\n",
      "| \u001b[0m 10      \u001b[0m | \u001b[0m 0.7733  \u001b[0m | \u001b[0m 0.6711  \u001b[0m | \u001b[0m 5.294   \u001b[0m | \u001b[0m 12.37   \u001b[0m | \u001b[0m 89.16   \u001b[0m | \u001b[0m 0.08217 \u001b[0m | \u001b[0m 79.0    \u001b[0m | \u001b[0m 0.1681  \u001b[0m | \u001b[0m 0.08031 \u001b[0m | \u001b[0m 0.7989  \u001b[0m |\n",
      "| \u001b[0m 11      \u001b[0m | \u001b[0m 0.7764  \u001b[0m | \u001b[0m 0.6477  \u001b[0m | \u001b[0m 6.673   \u001b[0m | \u001b[0m 30.51   \u001b[0m | \u001b[0m 68.19   \u001b[0m | \u001b[0m 0.04257 \u001b[0m | \u001b[0m 63.08   \u001b[0m | \u001b[0m 0.09735 \u001b[0m | \u001b[0m 0.09998 \u001b[0m | \u001b[0m 0.934   \u001b[0m |\n",
      "| \u001b[0m 12      \u001b[0m | \u001b[0m 0.7624  \u001b[0m | \u001b[0m 0.4103  \u001b[0m | \u001b[0m 3.298   \u001b[0m | \u001b[0m 46.81   \u001b[0m | \u001b[0m 52.66   \u001b[0m | \u001b[0m 0.04871 \u001b[0m | \u001b[0m 25.64   \u001b[0m | \u001b[0m 0.1164  \u001b[0m | \u001b[0m 0.1974  \u001b[0m | \u001b[0m 0.3673  \u001b[0m |\n",
      "| \u001b[95m 13      \u001b[0m | \u001b[95m 0.78    \u001b[0m | \u001b[95m 0.3699  \u001b[0m | \u001b[95m 8.757   \u001b[0m | \u001b[95m 70.99   \u001b[0m | \u001b[95m 67.44   \u001b[0m | \u001b[95m 0.03809 \u001b[0m | \u001b[95m 71.1    \u001b[0m | \u001b[95m 0.1005  \u001b[0m | \u001b[95m 0.01797 \u001b[0m | \u001b[95m 0.4377  \u001b[0m |\n",
      "| \u001b[0m 14      \u001b[0m | \u001b[0m 0.7687  \u001b[0m | \u001b[0m 0.8625  \u001b[0m | \u001b[0m 4.051   \u001b[0m | \u001b[0m 90.54   \u001b[0m | \u001b[0m 67.07   \u001b[0m | \u001b[0m 0.001663\u001b[0m | \u001b[0m 49.6    \u001b[0m | \u001b[0m 0.008435\u001b[0m | \u001b[0m 0.02546 \u001b[0m | \u001b[0m 0.3434  \u001b[0m |\n",
      "| \u001b[0m 15      \u001b[0m | \u001b[0m 0.7797  \u001b[0m | \u001b[0m 0.3332  \u001b[0m | \u001b[0m 8.293   \u001b[0m | \u001b[0m 90.69   \u001b[0m | \u001b[0m 38.83   \u001b[0m | \u001b[0m 0.04073 \u001b[0m | \u001b[0m 57.69   \u001b[0m | \u001b[0m 0.166   \u001b[0m | \u001b[0m 0.05841 \u001b[0m | \u001b[0m 0.3391  \u001b[0m |\n",
      "| \u001b[0m 16      \u001b[0m | \u001b[0m 0.7784  \u001b[0m | \u001b[0m 0.406   \u001b[0m | \u001b[0m 8.948   \u001b[0m | \u001b[0m 3.486   \u001b[0m | \u001b[0m 21.98   \u001b[0m | \u001b[0m 0.08807 \u001b[0m | \u001b[0m 54.04   \u001b[0m | \u001b[0m 0.1193  \u001b[0m | \u001b[0m 0.1387  \u001b[0m | \u001b[0m 0.8854  \u001b[0m |\n",
      "| \u001b[0m 17      \u001b[0m | \u001b[0m 0.7795  \u001b[0m | \u001b[0m 0.8838  \u001b[0m | \u001b[0m 8.924   \u001b[0m | \u001b[0m 98.26   \u001b[0m | \u001b[0m 22.6    \u001b[0m | \u001b[0m 0.09764 \u001b[0m | \u001b[0m 99.59   \u001b[0m | \u001b[0m 0.0914  \u001b[0m | \u001b[0m 0.1289  \u001b[0m | \u001b[0m 0.3563  \u001b[0m |\n",
      "| \u001b[0m 18      \u001b[0m | \u001b[0m 0.7775  \u001b[0m | \u001b[0m 0.8073  \u001b[0m | \u001b[0m 8.984   \u001b[0m | \u001b[0m 99.7    \u001b[0m | \u001b[0m 98.91   \u001b[0m | \u001b[0m 0.04945 \u001b[0m | \u001b[0m 32.18   \u001b[0m | \u001b[0m 0.03473 \u001b[0m | \u001b[0m 0.1938  \u001b[0m | \u001b[0m 0.9093  \u001b[0m |\n",
      "| \u001b[0m 19      \u001b[0m | \u001b[0m 0.7796  \u001b[0m | \u001b[0m 0.6382  \u001b[0m | \u001b[0m 8.973   \u001b[0m | \u001b[0m 50.47   \u001b[0m | \u001b[0m 98.81   \u001b[0m | \u001b[0m 0.07891 \u001b[0m | \u001b[0m 66.49   \u001b[0m | \u001b[0m 0.05035 \u001b[0m | \u001b[0m 0.003069\u001b[0m | \u001b[0m 0.984   \u001b[0m |\n",
      "| \u001b[0m 20      \u001b[0m | \u001b[0m 0.778   \u001b[0m | \u001b[0m 0.2116  \u001b[0m | \u001b[0m 8.762   \u001b[0m | \u001b[0m 2.266   \u001b[0m | \u001b[0m 96.8    \u001b[0m | \u001b[0m 0.09369 \u001b[0m | \u001b[0m 49.31   \u001b[0m | \u001b[0m 0.08916 \u001b[0m | \u001b[0m 0.05544 \u001b[0m | \u001b[0m 0.2513  \u001b[0m |\n",
      "| \u001b[0m 21      \u001b[0m | \u001b[0m 0.7779  \u001b[0m | \u001b[0m 0.7545  \u001b[0m | \u001b[0m 8.965   \u001b[0m | \u001b[0m 6.391   \u001b[0m | \u001b[0m 20.94   \u001b[0m | \u001b[0m 0.0645  \u001b[0m | \u001b[0m 89.6    \u001b[0m | \u001b[0m 0.1029  \u001b[0m | \u001b[0m 0.1163  \u001b[0m | \u001b[0m 0.2342  \u001b[0m |\n",
      "| \u001b[95m 22      \u001b[0m | \u001b[95m 0.7801  \u001b[0m | \u001b[95m 0.511   \u001b[0m | \u001b[95m 8.978   \u001b[0m | \u001b[95m 62.01   \u001b[0m | \u001b[95m 22.92   \u001b[0m | \u001b[95m 0.09187 \u001b[0m | \u001b[95m 81.5    \u001b[0m | \u001b[95m 0.06776 \u001b[0m | \u001b[95m 0.05014 \u001b[0m | \u001b[95m 0.9668  \u001b[0m |\n",
      "| \u001b[0m 23      \u001b[0m | \u001b[0m 0.7794  \u001b[0m | \u001b[0m 0.7991  \u001b[0m | \u001b[0m 8.935   \u001b[0m | \u001b[0m 99.39   \u001b[0m | \u001b[0m 55.47   \u001b[0m | \u001b[0m 0.03737 \u001b[0m | \u001b[0m 77.57   \u001b[0m | \u001b[0m 0.155   \u001b[0m | \u001b[0m 0.1308  \u001b[0m | \u001b[0m 0.9036  \u001b[0m |\n",
      "| \u001b[0m 24      \u001b[0m | \u001b[0m 0.7799  \u001b[0m | \u001b[0m 0.81    \u001b[0m | \u001b[0m 8.927   \u001b[0m | \u001b[0m 52.4    \u001b[0m | \u001b[0m 98.34   \u001b[0m | \u001b[0m 0.08461 \u001b[0m | \u001b[0m 69.09   \u001b[0m | \u001b[0m 0.02379 \u001b[0m | \u001b[0m 0.05599 \u001b[0m | \u001b[0m 0.2308  \u001b[0m |\n",
      "| \u001b[0m 25      \u001b[0m | \u001b[0m 0.7799  \u001b[0m | \u001b[0m 0.3919  \u001b[0m | \u001b[0m 8.961   \u001b[0m | \u001b[0m 87.74   \u001b[0m | \u001b[0m 20.14   \u001b[0m | \u001b[0m 0.04909 \u001b[0m | \u001b[0m 81.83   \u001b[0m | \u001b[0m 0.1959  \u001b[0m | \u001b[0m 0.0626  \u001b[0m | \u001b[0m 0.5798  \u001b[0m |\n",
      "| \u001b[0m 26      \u001b[0m | \u001b[0m 0.7798  \u001b[0m | \u001b[0m 0.2947  \u001b[0m | \u001b[0m 8.983   \u001b[0m | \u001b[0m 40.24   \u001b[0m | \u001b[0m 61.21   \u001b[0m | \u001b[0m 0.09908 \u001b[0m | \u001b[0m 73.12   \u001b[0m | \u001b[0m 0.09299 \u001b[0m | \u001b[0m 0.02119 \u001b[0m | \u001b[0m 0.4694  \u001b[0m |\n",
      "| \u001b[0m 27      \u001b[0m | \u001b[0m 0.7797  \u001b[0m | \u001b[0m 0.9816  \u001b[0m | \u001b[0m 8.944   \u001b[0m | \u001b[0m 90.87   \u001b[0m | \u001b[0m 98.39   \u001b[0m | \u001b[0m 0.09411 \u001b[0m | \u001b[0m 91.52   \u001b[0m | \u001b[0m 0.1893  \u001b[0m | \u001b[0m 0.1884  \u001b[0m | \u001b[0m 0.5862  \u001b[0m |\n",
      "| \u001b[0m 28      \u001b[0m | \u001b[0m 0.7794  \u001b[0m | \u001b[0m 0.926   \u001b[0m | \u001b[0m 8.953   \u001b[0m | \u001b[0m 59.82   \u001b[0m | \u001b[0m 97.36   \u001b[0m | \u001b[0m 0.02064 \u001b[0m | \u001b[0m 57.55   \u001b[0m | \u001b[0m 0.1495  \u001b[0m | \u001b[0m 0.127   \u001b[0m | \u001b[0m 0.9777  \u001b[0m |\n",
      "| \u001b[0m 29      \u001b[0m | \u001b[0m 0.7798  \u001b[0m | \u001b[0m 0.3439  \u001b[0m | \u001b[0m 8.989   \u001b[0m | \u001b[0m 99.58   \u001b[0m | \u001b[0m 61.48   \u001b[0m | \u001b[0m 0.09374 \u001b[0m | \u001b[0m 97.7    \u001b[0m | \u001b[0m 0.06035 \u001b[0m | \u001b[0m 0.0564  \u001b[0m | \u001b[0m 0.2226  \u001b[0m |\n",
      "| \u001b[0m 30      \u001b[0m | \u001b[0m 0.7798  \u001b[0m | \u001b[0m 0.3591  \u001b[0m | \u001b[0m 8.978   \u001b[0m | \u001b[0m 99.45   \u001b[0m | \u001b[0m 21.68   \u001b[0m | \u001b[0m 0.05211 \u001b[0m | \u001b[0m 76.83   \u001b[0m | \u001b[0m 0.0316  \u001b[0m | \u001b[0m 0.1707  \u001b[0m | \u001b[0m 0.9411  \u001b[0m |\n",
      "| \u001b[0m 31      \u001b[0m | \u001b[0m 0.7781  \u001b[0m | \u001b[0m 0.2754  \u001b[0m | \u001b[0m 8.965   \u001b[0m | \u001b[0m 3.222   \u001b[0m | \u001b[0m 99.41   \u001b[0m | \u001b[0m 0.05658 \u001b[0m | \u001b[0m 36.9    \u001b[0m | \u001b[0m 0.1308  \u001b[0m | \u001b[0m 0.1209  \u001b[0m | \u001b[0m 0.9231  \u001b[0m |\n",
      "| \u001b[0m 32      \u001b[0m | \u001b[0m 0.7789  \u001b[0m | \u001b[0m 0.991   \u001b[0m | \u001b[0m 8.939   \u001b[0m | \u001b[0m 73.91   \u001b[0m | \u001b[0m 54.43   \u001b[0m | \u001b[0m 0.04085 \u001b[0m | \u001b[0m 82.64   \u001b[0m | \u001b[0m 0.08559 \u001b[0m | \u001b[0m 0.05453 \u001b[0m | \u001b[0m 0.2013  \u001b[0m |\n",
      "| \u001b[0m 33      \u001b[0m | \u001b[0m 0.7792  \u001b[0m | \u001b[0m 0.9372  \u001b[0m | \u001b[0m 8.974   \u001b[0m | \u001b[0m 6.973   \u001b[0m | \u001b[0m 98.38   \u001b[0m | \u001b[0m 0.09344 \u001b[0m | \u001b[0m 86.5    \u001b[0m | \u001b[0m 0.1472  \u001b[0m | \u001b[0m 0.1014  \u001b[0m | \u001b[0m 0.7398  \u001b[0m |\n",
      "| \u001b[0m 34      \u001b[0m | \u001b[0m 0.7797  \u001b[0m | \u001b[0m 0.9253  \u001b[0m | \u001b[0m 8.954   \u001b[0m | \u001b[0m 99.13   \u001b[0m | \u001b[0m 21.05   \u001b[0m | \u001b[0m 0.038   \u001b[0m | \u001b[0m 94.3    \u001b[0m | \u001b[0m 0.131   \u001b[0m | \u001b[0m 0.1041  \u001b[0m | \u001b[0m 0.6493  \u001b[0m |\n",
      "| \u001b[0m 35      \u001b[0m | \u001b[0m 0.7793  \u001b[0m | \u001b[0m 0.2109  \u001b[0m | \u001b[0m 8.988   \u001b[0m | \u001b[0m 68.27   \u001b[0m | \u001b[0m 22.6    \u001b[0m | \u001b[0m 0.023   \u001b[0m | \u001b[0m 95.49   \u001b[0m | \u001b[0m 0.1881  \u001b[0m | \u001b[0m 0.178   \u001b[0m | \u001b[0m 0.8744  \u001b[0m |\n",
      "| \u001b[0m 36      \u001b[0m | \u001b[0m 0.7787  \u001b[0m | \u001b[0m 0.2143  \u001b[0m | \u001b[0m 8.978   \u001b[0m | \u001b[0m 99.65   \u001b[0m | \u001b[0m 83.8    \u001b[0m | \u001b[0m 0.08204 \u001b[0m | \u001b[0m 87.13   \u001b[0m | \u001b[0m 0.09888 \u001b[0m | \u001b[0m 0.02806 \u001b[0m | \u001b[0m 0.9899  \u001b[0m |\n"
     ]
    },
    {
     "name": "stdout",
     "output_type": "stream",
     "text": [
      "| \u001b[0m 37      \u001b[0m | \u001b[0m 0.7797  \u001b[0m | \u001b[0m 0.526   \u001b[0m | \u001b[0m 8.97    \u001b[0m | \u001b[0m 44.68   \u001b[0m | \u001b[0m 99.91   \u001b[0m | \u001b[0m 0.06122 \u001b[0m | \u001b[0m 66.53   \u001b[0m | \u001b[0m 0.149   \u001b[0m | \u001b[0m 0.036   \u001b[0m | \u001b[0m 0.2463  \u001b[0m |\n",
      "| \u001b[0m 38      \u001b[0m | \u001b[0m 0.7795  \u001b[0m | \u001b[0m 0.9755  \u001b[0m | \u001b[0m 8.978   \u001b[0m | \u001b[0m 60.47   \u001b[0m | \u001b[0m 25.32   \u001b[0m | \u001b[0m 0.000381\u001b[0m | \u001b[0m 80.4    \u001b[0m | \u001b[0m 0.1966  \u001b[0m | \u001b[0m 0.094   \u001b[0m | \u001b[0m 0.2889  \u001b[0m |\n",
      "| \u001b[0m 39      \u001b[0m | \u001b[0m 0.7799  \u001b[0m | \u001b[0m 0.2614  \u001b[0m | \u001b[0m 8.983   \u001b[0m | \u001b[0m 53.3    \u001b[0m | \u001b[0m 95.96   \u001b[0m | \u001b[0m 0.07032 \u001b[0m | \u001b[0m 70.26   \u001b[0m | \u001b[0m 0.04785 \u001b[0m | \u001b[0m 0.09847 \u001b[0m | \u001b[0m 0.6262  \u001b[0m |\n",
      "| \u001b[0m 40      \u001b[0m | \u001b[0m 0.7792  \u001b[0m | \u001b[0m 0.9552  \u001b[0m | \u001b[0m 8.99    \u001b[0m | \u001b[0m 14.79   \u001b[0m | \u001b[0m 65.27   \u001b[0m | \u001b[0m 0.005572\u001b[0m | \u001b[0m 76.01   \u001b[0m | \u001b[0m 0.03835 \u001b[0m | \u001b[0m 0.08286 \u001b[0m | \u001b[0m 0.9639  \u001b[0m |\n",
      "=====================================================================================================================================\n"
     ]
    }
   ],
   "source": [
    "from bayes_opt import BayesianOptimization\n",
    "import lightgbm\n",
    "\n",
    "train_set = df[df['TARGET'].notnull()]\n",
    "X = train_set.drop(['TARGET','SK_ID_CURR'], axis=1)\n",
    "X.columns = [\"\".join (c if c.isalnum() else \"_\" for c in str(x)) for x in X.columns] #LightGBM 不能處理 special JSON characters\n",
    "y = train_set.TARGET\n",
    "del train_set\n",
    "gc.collect()\n",
    "\n",
    "def bayes_parameter_opt_lgb(X, y, init_round=15, opt_round=25, n_folds=5, random_seed=50, n_estimators=10000, learning_rate=0.05, output_process=False):\n",
    "\n",
    "    categorical_columns = [col for col in X.columns if X[col].dtype == 'object']\n",
    "    train_data = lightgbm.Dataset(data=X, label=y, categorical_feature=categorical_columns, free_raw_data=False)\n",
    "\n",
    "    params = dict()\n",
    "    params[\"learning_rate\"] = 0.05\n",
    "    params[\"nthread\"] = 4\n",
    "    params[\"application\"] = \"binary\"\n",
    "    params[\"boosting_type\"] = 'goss'\n",
    "\n",
    "    def lgbm_eval(num_leaves,\n",
    "                  colsample_bytree,\n",
    "                  subsample,\n",
    "                  max_depth,\n",
    "                  reg_alpha,\n",
    "                  reg_lambda,\n",
    "                  min_split_gain,\n",
    "                  min_child_weight,\n",
    "                  min_data_in_leaf\n",
    "                 ):\n",
    "        params[\"num_leaves\"] = int(num_leaves)\n",
    "        params['colsample_bytree'] = max(min(colsample_bytree, 1), 0)\n",
    "        params['subsample'] = max(min(subsample, 1), 0)\n",
    "        params['max_depth'] = int(max_depth)\n",
    "        params['reg_alpha'] = max(reg_alpha, 0)\n",
    "        params['reg_lambda'] = max(reg_lambda, 0)\n",
    "        params['min_split_gain'] = min_split_gain\n",
    "        params['min_child_weight'] = min_child_weight\n",
    "        params['min_data_in_leaf'] = int(max(min_data_in_leaf, 1))\n",
    "\n",
    "        cv_result = lightgbm.cv(params, train_data, nfold=n_folds, seed=random_seed, stratified=True, verbose_eval=200, metrics=['auc'])\n",
    "\n",
    "        return max(cv_result['auc-mean'])\n",
    "\n",
    "    lgbBO = BayesianOptimization(lgbm_eval, {'num_leaves': (20, 100),\n",
    "                                            'colsample_bytree' :(0.2, 1.0),\n",
    "                                            'subsample': (0.2, 1.0),\n",
    "                                            'max_depth': (3, 8.99),\n",
    "                                            'reg_alpha': (0.00001, 0.2),\n",
    "                                            'reg_lambda': (0.00001, 0.2),\n",
    "                                            'min_split_gain': (0.00001, 0.1),\n",
    "                                            'min_child_weight': (1, 100),\n",
    "                                            'min_data_in_leaf': (20, 100)\n",
    "                                            }, random_state=random_seed)\n",
    "    lgbBO.maximize(init_points=init_round, n_iter=opt_round)\n",
    "    \n",
    "    if output_process==True: lgbBO.points_to_csv(\"bayes_opt_result.csv\")\n",
    "    \n",
    "    return lgbBO\n",
    "\n",
    "opt_lgb = bayes_parameter_opt_lgb(X, y)"
   ]
  },
  {
   "cell_type": "markdown",
   "metadata": {},
   "source": [
    "得到最佳參數："
   ]
  },
  {
   "cell_type": "code",
   "execution_count": 18,
   "metadata": {
    "scrolled": true
   },
   "outputs": [
    {
     "name": "stdout",
     "output_type": "stream",
     "text": [
      "{'target': 0.7801249519505453, 'params': {'colsample_bytree': 0.5110300074072807, 'max_depth': 8.977552395705573, 'min_child_weight': 62.01370018849643, 'min_data_in_leaf': 22.91634879128815, 'min_split_gain': 0.09186810956484048, 'num_leaves': 81.50397707140367, 'reg_alpha': 0.06776263027923575, 'reg_lambda': 0.0501364245150117, 'subsample': 0.9668094706053576}}\n"
     ]
    }
   ],
   "source": [
    "opt_params = opt_lgb.max['params']\n",
    "print(opt_lgb.max)"
   ]
  },
  {
   "cell_type": "code",
   "execution_count": 1,
   "metadata": {},
   "outputs": [
    {
     "name": "stdout",
     "output_type": "stream",
     "text": [
      "{'colsample_bytree': 0.5110300074072807,\n",
      " 'max_depth': 8,\n",
      " 'min_child_weight': 62.01370018849643,\n",
      " 'min_data_in_leaf': 22,\n",
      " 'min_split_gain': 0.09186810956484048,\n",
      " 'num_leaves': 81,\n",
      " 'reg_alpha': 0.06776263027923575,\n",
      " 'reg_lambda': 0.0501364245150117,\n",
      " 'subsample': 0.9668094706053576}\n"
     ]
    }
   ],
   "source": [
    "opt_params[\"num_leaves\"] = int(opt_params[\"num_leaves\"])\n",
    "opt_params['colsample_bytree'] = max(min(opt_params['colsample_bytree'], 1), 0)\n",
    "opt_params['subsample'] = max(min(opt_params['subsample'], 1), 0)\n",
    "opt_params['max_depth'] = int(opt_params['max_depth'])\n",
    "opt_params['reg_alpha'] = max(opt_params['reg_alpha'], 0)\n",
    "opt_params['reg_lambda'] = max(opt_params['reg_lambda'], 0)\n",
    "opt_params['min_split_gain'] = opt_params['min_split_gain']\n",
    "opt_params['min_child_weight'] = opt_params['min_child_weight']\n",
    "opt_params['min_data_in_leaf'] = int(max(opt_params['min_data_in_leaf'], 1))\n",
    "\n",
    "from pprint import pprint\n",
    "pprint(opt_params)"
   ]
  },
  {
   "cell_type": "markdown",
   "metadata": {},
   "source": [
    "### n-folds Cross Validation Gradient Boosting Machine"
   ]
  },
  {
   "cell_type": "code",
   "execution_count": 4,
   "metadata": {
    "scrolled": true
   },
   "outputs": [
    {
     "name": "stdout",
     "output_type": "stream",
     "text": [
      "Run LightGBM with kfold...\n",
      "\n",
      "Starting LightGBM. Train shape: (307507, 797), test shape: (48744, 797)\n",
      "Training until validation scores don't improve for 200 rounds\n",
      "[200]\ttraining's auc: 0.82126\ttraining's binary_logloss: 0.227087\tvalid_1's auc: 0.781746\tvalid_1's binary_logloss: 0.242648\n",
      "[400]\ttraining's auc: 0.845368\ttraining's binary_logloss: 0.215959\tvalid_1's auc: 0.788727\tvalid_1's binary_logloss: 0.239397\n",
      "[600]\ttraining's auc: 0.860919\ttraining's binary_logloss: 0.209062\tvalid_1's auc: 0.791174\tvalid_1's binary_logloss: 0.23844\n",
      "[800]\ttraining's auc: 0.874259\ttraining's binary_logloss: 0.203161\tvalid_1's auc: 0.792105\tvalid_1's binary_logloss: 0.23805\n",
      "[1000]\ttraining's auc: 0.885662\ttraining's binary_logloss: 0.197873\tvalid_1's auc: 0.792788\tvalid_1's binary_logloss: 0.237769\n",
      "[1200]\ttraining's auc: 0.895931\ttraining's binary_logloss: 0.192933\tvalid_1's auc: 0.792784\tvalid_1's binary_logloss: 0.23776\n",
      "Early stopping, best iteration is:\n",
      "[1118]\ttraining's auc: 0.89192\ttraining's binary_logloss: 0.194898\tvalid_1's auc: 0.792971\tvalid_1's binary_logloss: 0.237705\n",
      "Fold  1 AUC : 0.792971\n",
      "Training until validation scores don't improve for 200 rounds\n",
      "[200]\ttraining's auc: 0.822423\ttraining's binary_logloss: 0.22706\tvalid_1's auc: 0.776168\tvalid_1's binary_logloss: 0.242611\n",
      "[400]\ttraining's auc: 0.846623\ttraining's binary_logloss: 0.215842\tvalid_1's auc: 0.783975\tvalid_1's binary_logloss: 0.23923\n",
      "[600]\ttraining's auc: 0.861783\ttraining's binary_logloss: 0.208973\tvalid_1's auc: 0.787073\tvalid_1's binary_logloss: 0.238089\n",
      "[800]\ttraining's auc: 0.874702\ttraining's binary_logloss: 0.203144\tvalid_1's auc: 0.788478\tvalid_1's binary_logloss: 0.237583\n",
      "[1000]\ttraining's auc: 0.886303\ttraining's binary_logloss: 0.197731\tvalid_1's auc: 0.789178\tvalid_1's binary_logloss: 0.237308\n",
      "[1200]\ttraining's auc: 0.896682\ttraining's binary_logloss: 0.192637\tvalid_1's auc: 0.789641\tvalid_1's binary_logloss: 0.237177\n",
      "[1400]\ttraining's auc: 0.906041\ttraining's binary_logloss: 0.187915\tvalid_1's auc: 0.789713\tvalid_1's binary_logloss: 0.237153\n",
      "Early stopping, best iteration is:\n",
      "[1396]\ttraining's auc: 0.90585\ttraining's binary_logloss: 0.18802\tvalid_1's auc: 0.789738\tvalid_1's binary_logloss: 0.237137\n",
      "Fold  2 AUC : 0.789738\n",
      "Training until validation scores don't improve for 200 rounds\n",
      "[200]\ttraining's auc: 0.822332\ttraining's binary_logloss: 0.228306\tvalid_1's auc: 0.777395\tvalid_1's binary_logloss: 0.237518\n",
      "[400]\ttraining's auc: 0.846187\ttraining's binary_logloss: 0.21704\tvalid_1's auc: 0.78507\tvalid_1's binary_logloss: 0.234267\n",
      "[600]\ttraining's auc: 0.861905\ttraining's binary_logloss: 0.209921\tvalid_1's auc: 0.788124\tvalid_1's binary_logloss: 0.233132\n",
      "[800]\ttraining's auc: 0.875479\ttraining's binary_logloss: 0.203821\tvalid_1's auc: 0.789539\tvalid_1's binary_logloss: 0.232605\n",
      "[1000]\ttraining's auc: 0.886737\ttraining's binary_logloss: 0.198491\tvalid_1's auc: 0.790808\tvalid_1's binary_logloss: 0.232189\n",
      "[1200]\ttraining's auc: 0.896857\ttraining's binary_logloss: 0.19354\tvalid_1's auc: 0.791304\tvalid_1's binary_logloss: 0.232054\n",
      "[1400]\ttraining's auc: 0.906256\ttraining's binary_logloss: 0.188751\tvalid_1's auc: 0.791335\tvalid_1's binary_logloss: 0.232029\n",
      "Early stopping, best iteration is:\n",
      "[1356]\ttraining's auc: 0.904394\ttraining's binary_logloss: 0.189717\tvalid_1's auc: 0.791419\tvalid_1's binary_logloss: 0.231989\n",
      "Fold  3 AUC : 0.791419\n",
      "Training until validation scores don't improve for 200 rounds\n",
      "[200]\ttraining's auc: 0.822475\ttraining's binary_logloss: 0.227323\tvalid_1's auc: 0.777145\tvalid_1's binary_logloss: 0.241342\n",
      "[400]\ttraining's auc: 0.846201\ttraining's binary_logloss: 0.216202\tvalid_1's auc: 0.785223\tvalid_1's binary_logloss: 0.237986\n",
      "[600]\ttraining's auc: 0.861635\ttraining's binary_logloss: 0.209347\tvalid_1's auc: 0.788279\tvalid_1's binary_logloss: 0.236832\n",
      "[800]\ttraining's auc: 0.875382\ttraining's binary_logloss: 0.203174\tvalid_1's auc: 0.790053\tvalid_1's binary_logloss: 0.236217\n",
      "[1000]\ttraining's auc: 0.88648\ttraining's binary_logloss: 0.197962\tvalid_1's auc: 0.790546\tvalid_1's binary_logloss: 0.236036\n",
      "[1200]\ttraining's auc: 0.896812\ttraining's binary_logloss: 0.192905\tvalid_1's auc: 0.791146\tvalid_1's binary_logloss: 0.235844\n",
      "[1400]\ttraining's auc: 0.905555\ttraining's binary_logloss: 0.18839\tvalid_1's auc: 0.791179\tvalid_1's binary_logloss: 0.235868\n",
      "Early stopping, best iteration is:\n",
      "[1201]\ttraining's auc: 0.89683\ttraining's binary_logloss: 0.192891\tvalid_1's auc: 0.791161\tvalid_1's binary_logloss: 0.235837\n",
      "Fold  4 AUC : 0.791161\n",
      "Training until validation scores don't improve for 200 rounds\n",
      "[200]\ttraining's auc: 0.821059\ttraining's binary_logloss: 0.227929\tvalid_1's auc: 0.781866\tvalid_1's binary_logloss: 0.239989\n",
      "[400]\ttraining's auc: 0.845493\ttraining's binary_logloss: 0.216637\tvalid_1's auc: 0.789336\tvalid_1's binary_logloss: 0.236473\n",
      "[600]\ttraining's auc: 0.861647\ttraining's binary_logloss: 0.209506\tvalid_1's auc: 0.791889\tvalid_1's binary_logloss: 0.235404\n",
      "[800]\ttraining's auc: 0.875697\ttraining's binary_logloss: 0.203209\tvalid_1's auc: 0.793404\tvalid_1's binary_logloss: 0.234832\n",
      "[1000]\ttraining's auc: 0.887102\ttraining's binary_logloss: 0.197855\tvalid_1's auc: 0.794158\tvalid_1's binary_logloss: 0.234518\n",
      "[1200]\ttraining's auc: 0.896781\ttraining's binary_logloss: 0.193105\tvalid_1's auc: 0.794502\tvalid_1's binary_logloss: 0.234354\n",
      "[1400]\ttraining's auc: 0.905759\ttraining's binary_logloss: 0.188611\tvalid_1's auc: 0.794675\tvalid_1's binary_logloss: 0.234286\n",
      "[1600]\ttraining's auc: 0.913968\ttraining's binary_logloss: 0.184169\tvalid_1's auc: 0.794854\tvalid_1's binary_logloss: 0.234257\n",
      "Early stopping, best iteration is:\n",
      "[1484]\ttraining's auc: 0.909236\ttraining's binary_logloss: 0.186751\tvalid_1's auc: 0.794752\tvalid_1's binary_logloss: 0.23425\n",
      "Fold  5 AUC : 0.794752\n",
      "Full AUC score 0.791990\n"
     ]
    }
   ],
   "source": [
    "def kfold_lightgbm(df, num_folds, stratified = False, debug= False):\n",
    "    # Divide in training/validation and test data\n",
    "    train_df = df[df['TARGET'].notnull()]\n",
    "    train_df.columns = [\"\".join (c if c.isalnum() else \"_\" for c in str(x)) for x in train_df.columns]\n",
    "    test_df = df[df['TARGET'].isnull()]\n",
    "    test_df.columns = [\"\".join (c if c.isalnum() else \"_\" for c in str(x)) for x in test_df.columns]\n",
    "    print(\"Starting LightGBM. Train shape: {}, test shape: {}\".format(train_df.shape, test_df.shape))\n",
    "    del df\n",
    "    gc.collect()\n",
    "\n",
    "    if stratified:\n",
    "        folds = StratifiedKFold(n_splits= num_folds, shuffle=True, random_state=1001)\n",
    "    else:\n",
    "        folds = KFold(n_splits= num_folds, shuffle=True, random_state=1001)\n",
    "\n",
    "    oof_preds = np.zeros(train_df.shape[0])\n",
    "    sub_preds = np.zeros(test_df.shape[0])\n",
    "    feature_importance_df = pd.DataFrame()\n",
    "    feats = [f for f in train_df.columns if f not in ['TARGET','SK_ID_CURR','SK_ID_BUREAU','SK_ID_PREV','index']]\n",
    "    \n",
    "    for n_fold, (train_idx, valid_idx) in enumerate(folds.split(train_df[feats], train_df['TARGET'])):\n",
    "        train_x, train_y = train_df[feats].iloc[train_idx], train_df['TARGET'].iloc[train_idx]\n",
    "        valid_x, valid_y = train_df[feats].iloc[valid_idx], train_df['TARGET'].iloc[valid_idx]\n",
    "        clf = LGBMClassifier(\n",
    "            nthread=4,\n",
    "            boosting_type='goss',\n",
    "            n_estimators=10000,\n",
    "            learning_rate=0.02,\n",
    "            num_leaves=opt_params['num_leaves'],\n",
    "            colsample_bytree=opt_params['colsample_bytree'],\n",
    "            subsample=opt_params['subsample'],\n",
    "            max_depth=opt_params['max_depth'],\n",
    "            reg_alpha=opt_params['reg_alpha'],\n",
    "            reg_lambda=opt_params['reg_lambda'],\n",
    "            min_split_gain=opt_params['min_split_gain'],\n",
    "            min_child_weight=opt_params['min_child_weight'],\n",
    "            silent=-1,\n",
    "            verbose=-1)\n",
    "        \n",
    "        clf.fit(train_x, train_y, eval_set=[(train_x, train_y), (valid_x, valid_y)], \n",
    "            eval_metric='auc', verbose=200, early_stopping_rounds=200)\n",
    "\n",
    "        oof_preds[valid_idx] = clf.predict_proba(valid_x, num_iteration=clf.best_iteration_)[:, 1]\n",
    "        sub_preds += clf.predict_proba(test_df[feats], num_iteration=clf.best_iteration_)[:, 1] / folds.n_splits\n",
    "\n",
    "        fold_importance_df = pd.DataFrame()\n",
    "        fold_importance_df[\"feature\"] = feats\n",
    "        fold_importance_df[\"importance\"] = clf.feature_importances_\n",
    "        fold_importance_df[\"fold\"] = n_fold + 1\n",
    "        feature_importance_df = pd.concat([feature_importance_df, fold_importance_df], axis=0)\n",
    "        print('Fold %2d AUC : %.6f' % (n_fold + 1, roc_auc_score(valid_y, oof_preds[valid_idx])))\n",
    "        del clf, train_x, train_y, valid_x, valid_y\n",
    "        gc.collect()\n",
    "\n",
    "    print('Full AUC score %.6f' % roc_auc_score(train_df['TARGET'], oof_preds))\n",
    "\n",
    "    if not debug:\n",
    "        test_df['TARGET'] = sub_preds\n",
    "        test_df[['SK_ID_CURR', 'TARGET']].to_csv(\"best_submission.csv\", index=False)\n",
    "    return feature_importance_df\n",
    "\n",
    "print(\"Run LightGBM with kfold...\\n\")\n",
    "kfold_lgbm_feat_importance = kfold_lightgbm(df, num_folds=5, stratified=False, debug=DEBUG_MODE)"
   ]
  },
  {
   "cell_type": "markdown",
   "metadata": {},
   "source": [
    "![image](./submission.png)\n",
    "\n",
    "**Score: 0.79190，排名約在1800名左右**"
   ]
  },
  {
   "cell_type": "markdown",
   "metadata": {},
   "source": [
    "### Feature Importance (with Domain Knowledge)\n",
    "\n",
    "我們可以觀察到，我們特徵工程取出的`PAYMENT_RATE`是最相關的。\n",
    "\n",
    "而其他特徵工程取出的特徵值如`DAYS_EMPLOYED_PERC`、`ANNUITY_INCOME_PERC`等等也是很重要的Feature。"
   ]
  },
  {
   "cell_type": "code",
   "execution_count": 5,
   "metadata": {},
   "outputs": [
    {
     "data": {
      "image/png": "[encoded data removed]",
      "text/plain": [
       "<Figure size 576x720 with 1 Axes>"
      ]
     },
     "metadata": {
      "needs_background": "light"
     },
     "output_type": "display_data"
    }
   ],
   "source": [
    "def display_importances(feature_importance_df_):\n",
    "    cols = feature_importance_df_[[\"feature\", \"importance\"]].groupby(\"feature\").mean().sort_values(by=\"importance\", ascending=False)[:40].index\n",
    "    best_features = feature_importance_df_.loc[feature_importance_df_.feature.isin(cols)]\n",
    "    plt.figure(figsize=(8, 10))\n",
    "    sns.barplot(x=\"importance\", y=\"feature\", data=best_features.sort_values(by=\"importance\", ascending=False))\n",
    "    plt.title('LightGBM Features (avg over folds)')\n",
    "    plt.tight_layout()\n",
    "    plt.show()\n",
    "\n",
    "display_importances(kfold_lgbm_feat_importance)"
   ]
  },
  {
   "cell_type": "code",
   "execution_count": null,
   "metadata": {},
   "outputs": [],
   "source": []
  }
 ],
 "metadata": {
  "kernelspec": {
   "display_name": "Python 3",
   "language": "python",
   "name": "python3"
  },
  "language_info": {
   "codemirror_mode": {
    "name": "ipython",
    "version": 3
   },
   "file_extension": ".py",
   "mimetype": "text/x-python",
   "name": "python",
   "nbconvert_exporter": "python",
   "pygments_lexer": "ipython3",
   "version": "3.6.6"
  }
 },
 "nbformat": 4,
 "nbformat_minor": 1
}
